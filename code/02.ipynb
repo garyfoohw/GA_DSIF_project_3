{
 "cells": [
  {
   "cell_type": "code",
   "execution_count": 1,
   "id": "1522b74c",
   "metadata": {},
   "outputs": [],
   "source": [
    "import pickle"
   ]
  },
  {
   "cell_type": "code",
   "execution_count": 2,
   "id": "da05d3c0",
   "metadata": {},
   "outputs": [],
   "source": [
    "scrape_path_0=\"../scrape_file/scrapes_atheism.pickle\"\n",
    "scrape_path_1=\"../scrape_file/scrapes_christianity.pickle\""
   ]
  },
  {
   "cell_type": "code",
   "execution_count": 3,
   "id": "8cd9127c",
   "metadata": {},
   "outputs": [],
   "source": [
    "with open(scrape_path_0,'rb') as handle:\n",
    "    scrape0=pickle.load(handle)\n",
    "with open(scrape_path_1,'rb') as handle:\n",
    "    scrape1=pickle.load(handle)"
   ]
  },
  {
   "cell_type": "code",
   "execution_count": null,
   "id": "eb56eca9",
   "metadata": {},
   "outputs": [],
   "source": []
  }
 ],
 "metadata": {
  "kernelspec": {
   "display_name": "Python 3 (ipykernel)",
   "language": "python",
   "name": "python3"
  },
  "language_info": {
   "codemirror_mode": {
    "name": "ipython",
    "version": 3
   },
   "file_extension": ".py",
   "mimetype": "text/x-python",
   "name": "python",
   "nbconvert_exporter": "python",
   "pygments_lexer": "ipython3",
   "version": "3.9.12"
  }
 },
 "nbformat": 4,
 "nbformat_minor": 5
}
