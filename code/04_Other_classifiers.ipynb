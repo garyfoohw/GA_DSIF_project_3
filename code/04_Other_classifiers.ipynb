{
 "cells": [
  {
   "cell_type": "code",
   "execution_count": 1,
   "id": "9864b9f8",
   "metadata": {},
   "outputs": [],
   "source": [
    "import pickle\n",
    "import pandas as pd\n",
    "from sklearn.model_selection import train_test_split, RandomizedSearchCV, cross_val_score, GridSearchCV\n",
    "from sklearn.feature_extraction.text import CountVectorizer, TfidfVectorizer\n",
    "from sklearn.ensemble import RandomForestClassifier\n",
    "from sklearn.naive_bayes import MultinomialNB\n",
    "\n",
    "# from sklearn.metrics import confusion_matrix, classification_report\n",
    "from xgboost import XGBClassifier\n",
    "from classifiers import Classifiers\n",
    "\n",
    "import matplotlib.pyplot as plt\n",
    "\n",
    "from nltk.corpus import stopwords\n",
    "\n",
    "from utils import create_pipe, run_classifiers, get_conf_matrix"
   ]
  },
  {
   "cell_type": "code",
   "execution_count": 2,
   "id": "f9103c79",
   "metadata": {},
   "outputs": [
    {
     "data": {
      "text/html": [
       "<div>\n",
       "<style scoped>\n",
       "    .dataframe tbody tr th:only-of-type {\n",
       "        vertical-align: middle;\n",
       "    }\n",
       "\n",
       "    .dataframe tbody tr th {\n",
       "        vertical-align: top;\n",
       "    }\n",
       "\n",
       "    .dataframe thead th {\n",
       "        text-align: right;\n",
       "    }\n",
       "</style>\n",
       "<table border=\"1\" class=\"dataframe\">\n",
       "  <thead>\n",
       "    <tr style=\"text-align: right;\">\n",
       "      <th></th>\n",
       "      <th>post</th>\n",
       "      <th>label</th>\n",
       "      <th>post2</th>\n",
       "    </tr>\n",
       "  </thead>\n",
       "  <tbody>\n",
       "    <tr>\n",
       "      <th>0</th>\n",
       "      <td>this is the nail in the coffin for the idea of...</td>\n",
       "      <td>0</td>\n",
       "      <td>this is the nail in the coffin for the idea of...</td>\n",
       "    </tr>\n",
       "    <tr>\n",
       "      <th>1</th>\n",
       "      <td>i’m closeted, always been, and always will be....</td>\n",
       "      <td>0</td>\n",
       "      <td>i’m closeted, always been, and always will be....</td>\n",
       "    </tr>\n",
       "    <tr>\n",
       "      <th>2</th>\n",
       "      <td>the fifa world cup in qatar should be a remind...</td>\n",
       "      <td>0</td>\n",
       "      <td>the fifa world cup in qatar should be a remind...</td>\n",
       "    </tr>\n",
       "    <tr>\n",
       "      <th>3</th>\n",
       "      <td>we moved from the dc metro area last year to t...</td>\n",
       "      <td>0</td>\n",
       "      <td>we moved from the dc metro area last year to t...</td>\n",
       "    </tr>\n",
       "    <tr>\n",
       "      <th>4</th>\n",
       "      <td>they spend so much time focusing on arbitrary ...</td>\n",
       "      <td>0</td>\n",
       "      <td>they spend so much time focusing on arbitrary ...</td>\n",
       "    </tr>\n",
       "    <tr>\n",
       "      <th>...</th>\n",
       "      <td>...</td>\n",
       "      <td>...</td>\n",
       "      <td>...</td>\n",
       "    </tr>\n",
       "    <tr>\n",
       "      <th>10078</th>\n",
       "      <td>if jesus died for our sins, what's keeping us ...</td>\n",
       "      <td>1</td>\n",
       "      <td>if jesus died for our sins, what's keeping u f...</td>\n",
       "    </tr>\n",
       "    <tr>\n",
       "      <th>10079</th>\n",
       "      <td>hello everybody it may seem like a dumb questi...</td>\n",
       "      <td>1</td>\n",
       "      <td>hello everybody it may seem like a dumb questi...</td>\n",
       "    </tr>\n",
       "    <tr>\n",
       "      <th>10080</th>\n",
       "      <td>today's readings:  1 corinthians 1:4-8  &amp;gt;i ...</td>\n",
       "      <td>1</td>\n",
       "      <td>today's readings: 1 corinthian 1:4-8 &amp;gt;i tha...</td>\n",
       "    </tr>\n",
       "    <tr>\n",
       "      <th>10081</th>\n",
       "      <td>i don't propose this question in the sense of ...</td>\n",
       "      <td>1</td>\n",
       "      <td>i don't propose this question in the sense of ...</td>\n",
       "    </tr>\n",
       "    <tr>\n",
       "      <th>10082</th>\n",
       "      <td>i'd like to preface this by saying that i've n...</td>\n",
       "      <td>1</td>\n",
       "      <td>i'd like to preface this by saying that i've n...</td>\n",
       "    </tr>\n",
       "  </tbody>\n",
       "</table>\n",
       "<p>10083 rows × 3 columns</p>\n",
       "</div>"
      ],
      "text/plain": [
       "                                                    post  label  \\\n",
       "0      this is the nail in the coffin for the idea of...      0   \n",
       "1      i’m closeted, always been, and always will be....      0   \n",
       "2      the fifa world cup in qatar should be a remind...      0   \n",
       "3      we moved from the dc metro area last year to t...      0   \n",
       "4      they spend so much time focusing on arbitrary ...      0   \n",
       "...                                                  ...    ...   \n",
       "10078  if jesus died for our sins, what's keeping us ...      1   \n",
       "10079  hello everybody it may seem like a dumb questi...      1   \n",
       "10080  today's readings:  1 corinthians 1:4-8  &gt;i ...      1   \n",
       "10081  i don't propose this question in the sense of ...      1   \n",
       "10082  i'd like to preface this by saying that i've n...      1   \n",
       "\n",
       "                                                   post2  \n",
       "0      this is the nail in the coffin for the idea of...  \n",
       "1      i’m closeted, always been, and always will be....  \n",
       "2      the fifa world cup in qatar should be a remind...  \n",
       "3      we moved from the dc metro area last year to t...  \n",
       "4      they spend so much time focusing on arbitrary ...  \n",
       "...                                                  ...  \n",
       "10078  if jesus died for our sins, what's keeping u f...  \n",
       "10079  hello everybody it may seem like a dumb questi...  \n",
       "10080  today's readings: 1 corinthian 1:4-8 &gt;i tha...  \n",
       "10081  i don't propose this question in the sense of ...  \n",
       "10082  i'd like to preface this by saying that i've n...  \n",
       "\n",
       "[10083 rows x 3 columns]"
      ]
     },
     "execution_count": 2,
     "metadata": {},
     "output_type": "execute_result"
    }
   ],
   "source": [
    "path=\"../data/combined.pickle\"\n",
    "\n",
    "try:\n",
    "    with open(path,'rb') as handle:\n",
    "        pickleload=pickle.load(handle)\n",
    "except FileNotFoundError as e:\n",
    "    e.strerror = \"Pls run 01_scrape_reddit first to pull the data and 02_EDA to merge data.\"\n",
    "    raise e\n",
    "\n",
    "df=pd.DataFrame(pickleload)\n",
    "\n",
    "df"
   ]
  },
  {
   "cell_type": "markdown",
   "id": "14178f3e",
   "metadata": {},
   "source": [
    "### Prepare the dataset"
   ]
  },
  {
   "cell_type": "code",
   "execution_count": 3,
   "id": "6315003e",
   "metadata": {},
   "outputs": [],
   "source": [
    "X=df['post']\n",
    "y=df['label']"
   ]
  },
  {
   "cell_type": "markdown",
   "id": "c57f0ad2",
   "metadata": {},
   "source": [
    "## Add Random Forest and XGBoost into the mix"
   ]
  },
  {
   "cell_type": "code",
   "execution_count": 4,
   "id": "8ac8b49f",
   "metadata": {},
   "outputs": [
    {
     "name": "stdout",
     "output_type": "stream",
     "text": [
      "======= Running classifier: NaiveBayes =======\n",
      "ROC AUC with CV=5: 0.825646048026959\n",
      "======= Running classifier: RandomForest =======\n",
      "Fitting 5 folds for each of 30 candidates, totalling 150 fits\n",
      "Best parameters and accuracy\n",
      "{'cls__min_samples_split': 7, 'cls__min_samples_leaf': 4, 'cls__max_depth': 60}\n",
      "ROC AUC with CV=5: 0.834905267794349\n",
      "======= Running classifier: XGBoost =======\n",
      "Fitting 5 folds for each of 30 candidates, totalling 150 fits\n",
      "[19:51:57] WARNING: C:/Users/Administrator/workspace/xgboost-win64_release_1.6.0/src/learner.cc:627: \n",
      "Parameters: { \"subsample_bytree\" } might not be used.\n",
      "\n",
      "  This could be a false alarm, with some parameters getting used by language bindings but\n",
      "  then being mistakenly passed down to XGBoost core, or some parameter actually being used\n",
      "  but getting flagged wrongly here. Please open an issue if you find any such cases.\n",
      "\n",
      "\n",
      "Best parameters and accuracy\n",
      "{'cls__subsample_bytree': 0.9, 'cls__max_depth': 6, 'cls__gamma': 1, 'cls__eta': 0.12}\n",
      "ROC AUC with CV=5: 0.8306293160133148\n"
     ]
    }
   ],
   "source": [
    "classifiers_list=[\n",
    "    {\n",
    "        'cls':MultinomialNB(),\n",
    "        'name':'NaiveBayes',\n",
    "        'fixed_params':{'min_df': 0.05, 'max_features': 3500, 'max_df': 0.8,'use_idf': False, 'ngram_range': (1, 2)},\n",
    "    },\n",
    "    {\n",
    "        'cls':RandomForestClassifier(),\n",
    "        'name':'RandomForest',\n",
    "        'fixed_params':{'min_df': 0.05, 'max_features': 3500, 'max_df': 0.8,'use_idf': False, 'ngram_range': (1, 2)},\n",
    "        'float_params':{\n",
    "            'cls__max_depth':[60,80,100,120,140],\n",
    "            'cls__min_samples_split':[3,4,5,6,7],\n",
    "            'cls__min_samples_leaf':[2,3,4]\n",
    "        }\n",
    "    },\n",
    "    {\n",
    "        'cls':XGBClassifier(),\n",
    "        'name':'XGBoost',\n",
    "        'fixed_params':{'min_df': 0.05, 'max_features': 3500, 'max_df': 0.8,'use_idf': False, 'ngram_range': (1, 2)},\n",
    "        'float_params':{\n",
    "            'cls__eta':[0.08,0.1,0.12],\n",
    "            'cls__gamma':[1,10,20,50],\n",
    "            'cls__max_depth':[6,7,8],\n",
    "            'cls__subsample_bytree':[0.5,0.7,0.9]\n",
    "        }\n",
    "    }\n",
    "]\n",
    "run_classifiers(classifiers_list,X,y,tfidf=True)"
   ]
  },
  {
   "cell_type": "code",
   "execution_count": 5,
   "id": "7bb1ac16",
   "metadata": {},
   "outputs": [
    {
     "ename": "TypeError",
     "evalue": "create_pipe() missing 1 required positional argument: 'tfidf'",
     "output_type": "error",
     "traceback": [
      "\u001b[1;31m---------------------------------------------------------------------------\u001b[0m",
      "\u001b[1;31mTypeError\u001b[0m                                 Traceback (most recent call last)",
      "Input \u001b[1;32mIn [5]\u001b[0m, in \u001b[0;36m<cell line: 1>\u001b[1;34m()\u001b[0m\n\u001b[0;32m      5\u001b[0m     kw\u001b[38;5;241m=\u001b[39m{}\n\u001b[0;32m      6\u001b[0m     params\u001b[38;5;241m=\u001b[39mclassifier[\u001b[38;5;124m'\u001b[39m\u001b[38;5;124mparams\u001b[39m\u001b[38;5;124m'\u001b[39m]\n\u001b[1;32m----> 7\u001b[0m cv\u001b[38;5;241m=\u001b[39mGridSearchCV(\u001b[43mcreate_pipe\u001b[49m\u001b[43m(\u001b[49m\u001b[43mclassifier\u001b[49m\u001b[43m[\u001b[49m\u001b[38;5;124;43m'\u001b[39;49m\u001b[38;5;124;43mcls\u001b[39;49m\u001b[38;5;124;43m'\u001b[39;49m\u001b[43m]\u001b[49m\u001b[43m)\u001b[49m,\n\u001b[0;32m      8\u001b[0m                  params,cv\u001b[38;5;241m=\u001b[39m\u001b[38;5;241m5\u001b[39m,n_jobs\u001b[38;5;241m=\u001b[39m\u001b[38;5;241m-\u001b[39m\u001b[38;5;241m1\u001b[39m)\n\u001b[0;32m      9\u001b[0m cv\u001b[38;5;241m.\u001b[39mfit(X,y)\n\u001b[0;32m     10\u001b[0m display(cv\u001b[38;5;241m.\u001b[39mbest_params_)\n",
      "\u001b[1;31mTypeError\u001b[0m: create_pipe() missing 1 required positional argument: 'tfidf'"
     ]
    }
   ],
   "source": [
    "for classifier in classifiers_list:\n",
    "    name=classifier['name']\n",
    "    params={}\n",
    "    if 'params' in classifier:\n",
    "        kw={}\n",
    "        params=classifier['params']\n",
    "    cv=GridSearchCV(create_pipe(classifier['cls']),\n",
    "                     params,cv=5,n_jobs=-1)\n",
    "    cv.fit(X,y)\n",
    "    display(cv.best_params_)\n",
    "    display(cv.best_score_)"
   ]
  },
  {
   "cell_type": "markdown",
   "id": "3441f701",
   "metadata": {},
   "source": [
    "### Let's check out the top features as processed by `TfidfVectorizer`"
   ]
  },
  {
   "cell_type": "raw",
   "id": "a96ebd47",
   "metadata": {},
   "source": [
    "X0=df[df['label']==0]['post']\n",
    "X1=df[df['label']==1]['post']\n",
    "\n",
    "fixed_params={'min_df': 0.05, 'max_features': 3500, 'max_df': 0.8,'use_idf': False, 'ngram_range': (1, 2)}\n",
    "tvec=TfidfVectorizer(stop_words=stopwords.words(\"english\"),token_pattern=\"[^\\W\\d_]+\", **fixed_params)"
   ]
  },
  {
   "cell_type": "raw",
   "id": "8b45e97d",
   "metadata": {},
   "source": [
    "X0_trf=tvec.fit_transform(X0)\n",
    "X0_df = pd.DataFrame(X0_trf.todense(), columns=tvec.get_feature_names_out())\n",
    "\n",
    "X1_trf=tvec.fit_transform(X1)\n",
    "X1_df = pd.DataFrame(X1_trf.todense(), columns=tvec.get_feature_names_out())"
   ]
  },
  {
   "cell_type": "raw",
   "id": "3df1df83",
   "metadata": {},
   "source": [
    "X0_df.sum().sort_values(ascending=True).tail(10).plot(kind='barh');"
   ]
  },
  {
   "cell_type": "raw",
   "id": "87db9466",
   "metadata": {},
   "source": [
    "X1_df.sum().sort_values(ascending=True).tail(10).plot(kind='barh');"
   ]
  },
  {
   "cell_type": "code",
   "execution_count": null,
   "id": "c39ec138",
   "metadata": {},
   "outputs": [],
   "source": []
  }
 ],
 "metadata": {
  "kernelspec": {
   "display_name": "Python 3 (ipykernel)",
   "language": "python",
   "name": "python3"
  },
  "language_info": {
   "codemirror_mode": {
    "name": "ipython",
    "version": 3
   },
   "file_extension": ".py",
   "mimetype": "text/x-python",
   "name": "python",
   "nbconvert_exporter": "python",
   "pygments_lexer": "ipython3",
   "version": "3.9.12"
  }
 },
 "nbformat": 4,
 "nbformat_minor": 5
}
