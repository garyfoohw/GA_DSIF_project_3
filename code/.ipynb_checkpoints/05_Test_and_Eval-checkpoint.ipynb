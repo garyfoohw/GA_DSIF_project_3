{
 "cells": [
  {
   "cell_type": "code",
   "execution_count": 1,
   "id": "9864b9f8",
   "metadata": {},
   "outputs": [],
   "source": [
    "import pickle\n",
    "import pandas as pd\n",
    "from xgboost import XGBClassifier\n",
    "from utils import create_pipe\n",
    "from sklearn.metrics import plot_confusion_matrix"
   ]
  },
  {
   "cell_type": "code",
   "execution_count": 2,
   "id": "f9103c79",
   "metadata": {},
   "outputs": [],
   "source": [
    "#load data\n",
    "\n",
    "path=\"../data/combined.pickle\"\n",
    "\n",
    "try:\n",
    "    with open(path,'rb') as handle:\n",
    "        pickleload=pickle.load(handle)\n",
    "except FileNotFoundError as e:\n",
    "    e.strerror = \"Pls run 01_scrape_reddit first to pull the data and 02_EDA to merge data.\"\n",
    "    raise e\n",
    "\n",
    "df=pd.DataFrame(pickleload)"
   ]
  },
  {
   "cell_type": "markdown",
   "id": "14178f3e",
   "metadata": {},
   "source": [
    "### Prepare the dataset"
   ]
  },
  {
   "cell_type": "code",
   "execution_count": 3,
   "id": "2344a216",
   "metadata": {},
   "outputs": [],
   "source": [
    "X=df['post']\n",
    "y=df['label']"
   ]
  },
  {
   "cell_type": "code",
   "execution_count": 4,
   "id": "41f42129",
   "metadata": {},
   "outputs": [],
   "source": [
    "c={\n",
    "        'cls':XGBClassifier(subsample_bytree= 0.9, max_depth= 6, gamma= 1, eta= 0.12),\n",
    "        'name':'XGBoost',\n",
    "        'tvec_params':{'min_df': 0.05, 'max_features': 3500, 'max_df': 0.8,'use_idf': False, 'ngram_range': (1, 2)},\n",
    "    }"
   ]
  },
  {
   "cell_type": "code",
   "execution_count": 5,
   "id": "044d0500",
   "metadata": {},
   "outputs": [],
   "source": [
    "pipe=create_pipe(c['cls'],tfidf=True,**c['tvec_params'])"
   ]
  },
  {
   "cell_type": "code",
   "execution_count": 10,
   "id": "0d1f7330",
   "metadata": {},
   "outputs": [
    {
     "name": "stdout",
     "output_type": "stream",
     "text": [
      "[09:12:02] WARNING: C:/Users/Administrator/workspace/xgboost-win64_release_1.6.0/src/learner.cc:627: \n",
      "Parameters: { \"subsample_bytree\" } might not be used.\n",
      "\n",
      "  This could be a false alarm, with some parameters getting used by language bindings but\n",
      "  then being mistakenly passed down to XGBoost core, or some parameter actually being used\n",
      "  but getting flagged wrongly here. Please open an issue if you find any such cases.\n",
      "\n",
      "\n"
     ]
    }
   ],
   "source": [
    "_=pipe.fit(X,y)"
   ]
  },
  {
   "cell_type": "code",
   "execution_count": 7,
   "id": "3d0992ec",
   "metadata": {},
   "outputs": [
    {
     "name": "stderr",
     "output_type": "stream",
     "text": [
      "C:\\Users\\Gary\\anaconda3\\lib\\site-packages\\sklearn\\utils\\deprecation.py:87: FutureWarning: Function plot_confusion_matrix is deprecated; Function `plot_confusion_matrix` is deprecated in 1.0 and will be removed in 1.2. Use one of the class methods: ConfusionMatrixDisplay.from_predictions or ConfusionMatrixDisplay.from_estimator.\n",
      "  warnings.warn(msg, category=FutureWarning)\n"
     ]
    },
    {
     "data": {
      "text/plain": [
       "<sklearn.metrics._plot.confusion_matrix.ConfusionMatrixDisplay at 0x1efd16ea490>"
      ]
     },
     "execution_count": 7,
     "metadata": {},
     "output_type": "execute_result"
    },
    {
     "data": {
      "image/png": "[encoded data removed]",
      "text/plain": [
       "<Figure size 432x288 with 2 Axes>"
      ]
     },
     "metadata": {
      "needs_background": "light"
     },
     "output_type": "display_data"
    }
   ],
   "source": [
    "plot_confusion_matrix(pipe,X,y)"
   ]
  },
  {
   "cell_type": "markdown",
   "id": "46370405",
   "metadata": {},
   "source": [
    "Looking at the TP/FP/TN/FN rates, they aren't that bad actually.  \n",
    "Looks pretty good."
   ]
  },
  {
   "cell_type": "markdown",
   "id": "5cc32fad",
   "metadata": {},
   "source": [
    "Let's test a sample post on subreddit Aethiest, which was not used to train the model on."
   ]
  },
  {
   "cell_type": "code",
   "execution_count": 8,
   "id": "905dd8d4",
   "metadata": {},
   "outputs": [],
   "source": [
    "sample=\"\"\"\n",
    "Girlfriend of 3 years just gave me an ultimatum\n",
    "For context, when we first started dating she was in a stage in her life where she was fairly ‘loose’ with her faith (Christianity). Early on, we both acknowledged and accepted each other’s beliefs, or my lack of, and I thought that was the end of it. I mean couples don’t always share the same religious beliefs right?\n",
    "\"\"\"\n",
    "\n",
    "df_test=pd.DataFrame([sample])"
   ]
  },
  {
   "cell_type": "code",
   "execution_count": 9,
   "id": "e2b3a0be",
   "metadata": {},
   "outputs": [
    {
     "name": "stdout",
     "output_type": "stream",
     "text": [
      "Prediction is aethiest\n"
     ]
    }
   ],
   "source": [
    "result=pipe.predict(df_test[0])\n",
    "if result[0]==1:\n",
    "    print(\"Prediction is christian\")\n",
    "else:\n",
    "    print(\"Prediction is aethiest\")        "
   ]
  },
  {
   "cell_type": "markdown",
   "id": "a3bc04d5",
   "metadata": {},
   "source": [
    "And that is correct!"
   ]
  }
 ],
 "metadata": {
  "kernelspec": {
   "display_name": "Python 3 (ipykernel)",
   "language": "python",
   "name": "python3"
  },
  "language_info": {
   "codemirror_mode": {
    "name": "ipython",
    "version": 3
   },
   "file_extension": ".py",
   "mimetype": "text/x-python",
   "name": "python",
   "nbconvert_exporter": "python",
   "pygments_lexer": "ipython3",
   "version": "3.9.12"
  }
 },
 "nbformat": 4,
 "nbformat_minor": 5
}
