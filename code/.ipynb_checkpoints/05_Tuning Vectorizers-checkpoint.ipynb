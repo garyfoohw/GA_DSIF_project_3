{
 "cells": [
  {
   "cell_type": "code",
   "execution_count": 1,
   "id": "9864b9f8",
   "metadata": {},
   "outputs": [],
   "source": [
    "import pickle\n",
    "import pandas as pd\n",
    "from sklearn.model_selection import train_test_split\n",
    "from sklearn.feature_extraction.text import TfidfVectorizer\n",
    "from sklearn.ensemble import RandomForestClassifier\n",
    "from sklearn.svm import SVC\n",
    "from sklearn.pipeline import Pipeline\n",
    "import xgboost as xgb\n",
    "from classifiers import Classifiers\n",
    "from nltk.corpus import stopwords"
   ]
  },
  {
   "cell_type": "code",
   "execution_count": 2,
   "id": "f9103c79",
   "metadata": {},
   "outputs": [],
   "source": [
    "scrape_path_0=\"../scrape_file/scrapes_atheism.pickle\"\n",
    "scrape_path_1=\"../scrape_file/scrapes_christianity.pickle\"\n",
    "\n",
    "try:\n",
    "    with open(scrape_path_0,'rb') as handle:\n",
    "        scrape0=pickle.load(handle)\n",
    "    with open(scrape_path_1,'rb') as handle:\n",
    "        scrape1=pickle.load(handle)\n",
    "except FileNotFoundError as e:\n",
    "    e.strerror = \"Pls run 01_scrape_reddit first to pull the data.\"\n",
    "    raise e\n",
    "\n",
    "df0=pd.DataFrame(scrape0,columns=[\"post\"])\n",
    "df0['label']=0\n",
    "\n",
    "df1=pd.DataFrame(scrape1,columns=[\"post\"])\n",
    "df1['label']=1\n",
    "\n",
    "df=pd.concat([df0,df1])\n",
    "df.reset_index(inplace=True,drop=True)"
   ]
  },
  {
   "cell_type": "markdown",
   "id": "14178f3e",
   "metadata": {},
   "source": [
    "### Prepare the dataset"
   ]
  },
  {
   "cell_type": "code",
   "execution_count": 3,
   "id": "6315003e",
   "metadata": {},
   "outputs": [],
   "source": [
    "X=df['post']\n",
    "y=df['label']"
   ]
  },
  {
   "cell_type": "markdown",
   "id": "c57f0ad2",
   "metadata": {},
   "source": [
    "## Modify Pipeline for TD-IDF"
   ]
  },
  {
   "cell_type": "code",
   "execution_count": 4,
   "id": "02d6c5dc",
   "metadata": {},
   "outputs": [],
   "source": [
    "def create_pipe(cls):\n",
    "    return Pipeline([\n",
    "        ('tfidf',TfidfVectorizer(stop_words=stopwords.words(\"english\"))),\n",
    "        ('cls',cls)\n",
    "    ])"
   ]
  },
  {
   "cell_type": "code",
   "execution_count": 5,
   "id": "abcdd149",
   "metadata": {},
   "outputs": [],
   "source": [
    "class_obj=Classifiers(create_pipe,X,y,123)"
   ]
  },
  {
   "cell_type": "code",
   "execution_count": 6,
   "id": "9fe9d571",
   "metadata": {},
   "outputs": [],
   "source": [
    "classifiers=[\n",
    "    {\n",
    "        'cls':RandomForestClassifier(n_jobs=-1),\n",
    "        'name':'Random Forest'\n",
    "    },\n",
    "    {\n",
    "        'cls':SVC(),\n",
    "        'name':'SVC'\n",
    "    },\n",
    "    {\n",
    "        'cls':xgb.XGBClassifier(objective=\"binary:logistic\"),\n",
    "        'name':'XGBoost'\n",
    "    },\n",
    "]"
   ]
  },
  {
   "cell_type": "code",
   "execution_count": 7,
   "id": "7a2d5557",
   "metadata": {},
   "outputs": [
    {
     "name": "stdout",
     "output_type": "stream",
     "text": [
      "========= Running classifier: Random Forest =========\n",
      "--Train--\n",
      "Accuracy: 0.9995\n",
      "--Test--\n",
      "Accuracy: 0.8071\n",
      "Precision: 0.8116\n",
      "Recall: 0.8012\n",
      "Specificity: 0.8131\n",
      "F1: 0.8064\n",
      "---Other metrics regarding Random Forest---\n",
      "Average tree depth: 283.39\n",
      "========= Running classifier: SVC =========\n",
      "--Train--\n",
      "Accuracy: 0.9880\n",
      "--Test--\n",
      "Accuracy: 0.8270\n",
      "Precision: 0.8492\n",
      "Recall: 0.7962\n",
      "Specificity: 0.8579\n",
      "F1: 0.8218\n",
      "========= Running classifier: XGBoost =========\n",
      "--Train--\n",
      "Accuracy: 0.9444\n",
      "--Test--\n",
      "Accuracy: 0.8111\n",
      "Precision: 0.8094\n",
      "Recall: 0.8150\n",
      "Specificity: 0.8072\n",
      "F1: 0.8122\n"
     ]
    }
   ],
   "source": [
    "for i in classifiers:\n",
    "    class_obj.run_classifier(i['cls'],i['name'])"
   ]
  },
  {
   "cell_type": "markdown",
   "id": "c00d6bb6",
   "metadata": {},
   "source": [
    "Looks like TF-IDF doesn't help much either. Let's look at other methods."
   ]
  },
  {
   "cell_type": "code",
   "execution_count": null,
   "id": "a9f85799",
   "metadata": {},
   "outputs": [],
   "source": []
  }
 ],
 "metadata": {
  "kernelspec": {
   "display_name": "Python 3 (ipykernel)",
   "language": "python",
   "name": "python3"
  },
  "language_info": {
   "codemirror_mode": {
    "name": "ipython",
    "version": 3
   },
   "file_extension": ".py",
   "mimetype": "text/x-python",
   "name": "python",
   "nbconvert_exporter": "python",
   "pygments_lexer": "ipython3",
   "version": "3.9.12"
  }
 },
 "nbformat": 4,
 "nbformat_minor": 5
}
