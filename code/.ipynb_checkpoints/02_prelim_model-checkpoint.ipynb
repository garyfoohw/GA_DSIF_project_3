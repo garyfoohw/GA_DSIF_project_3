{
 "cells": [
  {
   "cell_type": "code",
   "execution_count": 106,
   "id": "1522b74c",
   "metadata": {},
   "outputs": [],
   "source": [
    "import pickle\n",
    "import pandas as pd\n",
    "from sklearn.model_selection import train_test_split\n",
    "from sklearn.feature_extraction.text import CountVectorizer\n",
    "from sklearn.ensemble import RandomForestClassifier, AdaBoostClassifier\n",
    "from sklearn.pipeline import Pipeline\n",
    "from sklearn.metrics import confusion_matrix\n",
    "import xgboost as xgb"
   ]
  },
  {
   "cell_type": "code",
   "execution_count": 2,
   "id": "da05d3c0",
   "metadata": {},
   "outputs": [],
   "source": [
    "scrape_path_0=\"../scrape_file/scrapes_atheism.pickle\"\n",
    "scrape_path_1=\"../scrape_file/scrapes_christianity.pickle\""
   ]
  },
  {
   "cell_type": "code",
   "execution_count": 3,
   "id": "8cd9127c",
   "metadata": {},
   "outputs": [],
   "source": [
    "with open(scrape_path_0,'rb') as handle:\n",
    "    scrape0=pickle.load(handle)\n",
    "with open(scrape_path_1,'rb') as handle:\n",
    "    scrape1=pickle.load(handle)"
   ]
  },
  {
   "cell_type": "code",
   "execution_count": 22,
   "id": "ebf5dab3",
   "metadata": {},
   "outputs": [],
   "source": [
    "df0=pd.DataFrame(scrape0,columns=[\"post\"])\n",
    "df0['label']=0\n",
    "\n",
    "df1=pd.DataFrame(scrape1,columns=[\"post\"])\n",
    "df1['label']=1\n",
    "\n",
    "df=pd.concat([df0,df1])\n",
    "df.reset_index(inplace=True,drop=True)"
   ]
  },
  {
   "cell_type": "code",
   "execution_count": 23,
   "id": "b75c4af4",
   "metadata": {},
   "outputs": [
    {
     "data": {
      "text/html": [
       "<div>\n",
       "<style scoped>\n",
       "    .dataframe tbody tr th:only-of-type {\n",
       "        vertical-align: middle;\n",
       "    }\n",
       "\n",
       "    .dataframe tbody tr th {\n",
       "        vertical-align: top;\n",
       "    }\n",
       "\n",
       "    .dataframe thead th {\n",
       "        text-align: right;\n",
       "    }\n",
       "</style>\n",
       "<table border=\"1\" class=\"dataframe\">\n",
       "  <thead>\n",
       "    <tr style=\"text-align: right;\">\n",
       "      <th></th>\n",
       "      <th>post</th>\n",
       "      <th>label</th>\n",
       "    </tr>\n",
       "  </thead>\n",
       "  <tbody>\n",
       "    <tr>\n",
       "      <th>0</th>\n",
       "      <td>This is the nail in the coffin for the idea of...</td>\n",
       "      <td>0</td>\n",
       "    </tr>\n",
       "    <tr>\n",
       "      <th>1</th>\n",
       "      <td>I’m closeted, always been, and always will be....</td>\n",
       "      <td>0</td>\n",
       "    </tr>\n",
       "    <tr>\n",
       "      <th>2</th>\n",
       "      <td>The FIFA world cup in Qatar should be a remind...</td>\n",
       "      <td>0</td>\n",
       "    </tr>\n",
       "    <tr>\n",
       "      <th>3</th>\n",
       "      <td>We moved from the DC metro area last year to t...</td>\n",
       "      <td>0</td>\n",
       "    </tr>\n",
       "    <tr>\n",
       "      <th>4</th>\n",
       "      <td>They spend so much time focusing on arbitrary ...</td>\n",
       "      <td>0</td>\n",
       "    </tr>\n",
       "    <tr>\n",
       "      <th>...</th>\n",
       "      <td>...</td>\n",
       "      <td>...</td>\n",
       "    </tr>\n",
       "    <tr>\n",
       "      <th>10078</th>\n",
       "      <td>If Jesus died for our sins, what's keeping us ...</td>\n",
       "      <td>1</td>\n",
       "    </tr>\n",
       "    <tr>\n",
       "      <th>10079</th>\n",
       "      <td>Hello everybody it may seem like a dumb questi...</td>\n",
       "      <td>1</td>\n",
       "    </tr>\n",
       "    <tr>\n",
       "      <th>10080</th>\n",
       "      <td>Today's readings:\\n\\n1 Corinthians 1:4-8\\n\\n&amp;g...</td>\n",
       "      <td>1</td>\n",
       "    </tr>\n",
       "    <tr>\n",
       "      <th>10081</th>\n",
       "      <td>I don't propose this question in the sense of ...</td>\n",
       "      <td>1</td>\n",
       "    </tr>\n",
       "    <tr>\n",
       "      <th>10082</th>\n",
       "      <td>I'd like to preface this by saying that I've n...</td>\n",
       "      <td>1</td>\n",
       "    </tr>\n",
       "  </tbody>\n",
       "</table>\n",
       "<p>10083 rows × 2 columns</p>\n",
       "</div>"
      ],
      "text/plain": [
       "                                                    post  label\n",
       "0      This is the nail in the coffin for the idea of...      0\n",
       "1      I’m closeted, always been, and always will be....      0\n",
       "2      The FIFA world cup in Qatar should be a remind...      0\n",
       "3      We moved from the DC metro area last year to t...      0\n",
       "4      They spend so much time focusing on arbitrary ...      0\n",
       "...                                                  ...    ...\n",
       "10078  If Jesus died for our sins, what's keeping us ...      1\n",
       "10079  Hello everybody it may seem like a dumb questi...      1\n",
       "10080  Today's readings:\\n\\n1 Corinthians 1:4-8\\n\\n&g...      1\n",
       "10081  I don't propose this question in the sense of ...      1\n",
       "10082  I'd like to preface this by saying that I've n...      1\n",
       "\n",
       "[10083 rows x 2 columns]"
      ]
     },
     "execution_count": 23,
     "metadata": {},
     "output_type": "execute_result"
    }
   ],
   "source": [
    "df"
   ]
  },
  {
   "cell_type": "code",
   "execution_count": 24,
   "id": "5cf4cb82",
   "metadata": {
    "scrolled": true
   },
   "outputs": [
    {
     "data": {
      "text/plain": [
       "0.5013388872359417"
      ]
     },
     "execution_count": 24,
     "metadata": {},
     "output_type": "execute_result"
    }
   ],
   "source": [
    "df['label'].mean()"
   ]
  },
  {
   "cell_type": "markdown",
   "id": "767ee491",
   "metadata": {},
   "source": [
    "Quite an equal representation (50%) of labels are 1 and 0."
   ]
  },
  {
   "cell_type": "code",
   "execution_count": 28,
   "id": "f187e8ec",
   "metadata": {},
   "outputs": [],
   "source": [
    "X=df['post']\n",
    "y=df['label']\n",
    "\n",
    "X_train, X_test, y_train, y_test = train_test_split(X,y,test_size=0.2,stratify=y,random_state=123)"
   ]
  },
  {
   "cell_type": "code",
   "execution_count": 29,
   "id": "f88d49ae",
   "metadata": {},
   "outputs": [
    {
     "data": {
      "text/plain": [
       "0        This is the nail in the coffin for the idea of...\n",
       "1        I’m closeted, always been, and always will be....\n",
       "2        The FIFA world cup in Qatar should be a remind...\n",
       "3        We moved from the DC metro area last year to t...\n",
       "4        They spend so much time focusing on arbitrary ...\n",
       "                               ...                        \n",
       "10078    If Jesus died for our sins, what's keeping us ...\n",
       "10079    Hello everybody it may seem like a dumb questi...\n",
       "10080    Today's readings:\\n\\n1 Corinthians 1:4-8\\n\\n&g...\n",
       "10081    I don't propose this question in the sense of ...\n",
       "10082    I'd like to preface this by saying that I've n...\n",
       "Name: post, Length: 10083, dtype: object"
      ]
     },
     "execution_count": 29,
     "metadata": {},
     "output_type": "execute_result"
    }
   ],
   "source": [
    "X"
   ]
  },
  {
   "cell_type": "code",
   "execution_count": 41,
   "id": "bfbc84d4",
   "metadata": {},
   "outputs": [
    {
     "data": {
      "text/html": [
       "<style>#sk-container-id-2 {color: black;background-color: white;}#sk-container-id-2 pre{padding: 0;}#sk-container-id-2 div.sk-toggleable {background-color: white;}#sk-container-id-2 label.sk-toggleable__label {cursor: pointer;display: block;width: 100%;margin-bottom: 0;padding: 0.3em;box-sizing: border-box;text-align: center;}#sk-container-id-2 label.sk-toggleable__label-arrow:before {content: \"▸\";float: left;margin-right: 0.25em;color: #696969;}#sk-container-id-2 label.sk-toggleable__label-arrow:hover:before {color: black;}#sk-container-id-2 div.sk-estimator:hover label.sk-toggleable__label-arrow:before {color: black;}#sk-container-id-2 div.sk-toggleable__content {max-height: 0;max-width: 0;overflow: hidden;text-align: left;background-color: #f0f8ff;}#sk-container-id-2 div.sk-toggleable__content pre {margin: 0.2em;color: black;border-radius: 0.25em;background-color: #f0f8ff;}#sk-container-id-2 input.sk-toggleable__control:checked~div.sk-toggleable__content {max-height: 200px;max-width: 100%;overflow: auto;}#sk-container-id-2 input.sk-toggleable__control:checked~label.sk-toggleable__label-arrow:before {content: \"▾\";}#sk-container-id-2 div.sk-estimator input.sk-toggleable__control:checked~label.sk-toggleable__label {background-color: #d4ebff;}#sk-container-id-2 div.sk-label input.sk-toggleable__control:checked~label.sk-toggleable__label {background-color: #d4ebff;}#sk-container-id-2 input.sk-hidden--visually {border: 0;clip: rect(1px 1px 1px 1px);clip: rect(1px, 1px, 1px, 1px);height: 1px;margin: -1px;overflow: hidden;padding: 0;position: absolute;width: 1px;}#sk-container-id-2 div.sk-estimator {font-family: monospace;background-color: #f0f8ff;border: 1px dotted black;border-radius: 0.25em;box-sizing: border-box;margin-bottom: 0.5em;}#sk-container-id-2 div.sk-estimator:hover {background-color: #d4ebff;}#sk-container-id-2 div.sk-parallel-item::after {content: \"\";width: 100%;border-bottom: 1px solid gray;flex-grow: 1;}#sk-container-id-2 div.sk-label:hover label.sk-toggleable__label {background-color: #d4ebff;}#sk-container-id-2 div.sk-serial::before {content: \"\";position: absolute;border-left: 1px solid gray;box-sizing: border-box;top: 0;bottom: 0;left: 50%;z-index: 0;}#sk-container-id-2 div.sk-serial {display: flex;flex-direction: column;align-items: center;background-color: white;padding-right: 0.2em;padding-left: 0.2em;position: relative;}#sk-container-id-2 div.sk-item {position: relative;z-index: 1;}#sk-container-id-2 div.sk-parallel {display: flex;align-items: stretch;justify-content: center;background-color: white;position: relative;}#sk-container-id-2 div.sk-item::before, #sk-container-id-2 div.sk-parallel-item::before {content: \"\";position: absolute;border-left: 1px solid gray;box-sizing: border-box;top: 0;bottom: 0;left: 50%;z-index: -1;}#sk-container-id-2 div.sk-parallel-item {display: flex;flex-direction: column;z-index: 1;position: relative;background-color: white;}#sk-container-id-2 div.sk-parallel-item:first-child::after {align-self: flex-end;width: 50%;}#sk-container-id-2 div.sk-parallel-item:last-child::after {align-self: flex-start;width: 50%;}#sk-container-id-2 div.sk-parallel-item:only-child::after {width: 0;}#sk-container-id-2 div.sk-dashed-wrapped {border: 1px dashed gray;margin: 0 0.4em 0.5em 0.4em;box-sizing: border-box;padding-bottom: 0.4em;background-color: white;}#sk-container-id-2 div.sk-label label {font-family: monospace;font-weight: bold;display: inline-block;line-height: 1.2em;}#sk-container-id-2 div.sk-label-container {text-align: center;}#sk-container-id-2 div.sk-container {/* jupyter's `normalize.less` sets `[hidden] { display: none; }` but bootstrap.min.css set `[hidden] { display: none !important; }` so we also need the `!important` here to be able to override the default hidden behavior on the sphinx rendered scikit-learn.org. See: https://github.com/scikit-learn/scikit-learn/issues/21755 */display: inline-block !important;position: relative;}#sk-container-id-2 div.sk-text-repr-fallback {display: none;}</style><div id=\"sk-container-id-2\" class=\"sk-top-container\"><div class=\"sk-text-repr-fallback\"><pre>CountVectorizer(stop_words=&#x27;english&#x27;)</pre><b>In a Jupyter environment, please rerun this cell to show the HTML representation or trust the notebook. <br />On GitHub, the HTML representation is unable to render, please try loading this page with nbviewer.org.</b></div><div class=\"sk-container\" hidden><div class=\"sk-item\"><div class=\"sk-estimator sk-toggleable\"><input class=\"sk-toggleable__control sk-hidden--visually\" id=\"sk-estimator-id-2\" type=\"checkbox\" checked><label for=\"sk-estimator-id-2\" class=\"sk-toggleable__label sk-toggleable__label-arrow\">CountVectorizer</label><div class=\"sk-toggleable__content\"><pre>CountVectorizer(stop_words=&#x27;english&#x27;)</pre></div></div></div></div></div>"
      ],
      "text/plain": [
       "CountVectorizer(stop_words='english')"
      ]
     },
     "execution_count": 41,
     "metadata": {},
     "output_type": "execute_result"
    }
   ],
   "source": [
    "cv=CountVectorizer(stop_words='english')\n",
    "cv.fit(X_train)"
   ]
  },
  {
   "cell_type": "code",
   "execution_count": 42,
   "id": "570eae7c",
   "metadata": {},
   "outputs": [],
   "source": [
    "X_train_trf=cv.transform(X_train)"
   ]
  },
  {
   "cell_type": "code",
   "execution_count": 43,
   "id": "d7f2f5ac",
   "metadata": {},
   "outputs": [
    {
     "data": {
      "text/plain": [
       "(8066, 33821)"
      ]
     },
     "execution_count": 43,
     "metadata": {},
     "output_type": "execute_result"
    }
   ],
   "source": [
    "X_train_trf.shape"
   ]
  },
  {
   "cell_type": "code",
   "execution_count": 105,
   "id": "a443c33a",
   "metadata": {},
   "outputs": [
    {
     "data": {
      "text/plain": [
       "['00',\n",
       " '000',\n",
       " '00050571',\n",
       " '000d3ad24077',\n",
       " '000d3ad24a0d',\n",
       " '000d3ad24c60',\n",
       " '000yrs',\n",
       " '001',\n",
       " '00120',\n",
       " '0055',\n",
       " '00729735256',\n",
       " '00a',\n",
       " '00am',\n",
       " '00s',\n",
       " '01',\n",
       " '013',\n",
       " '01660654507',\n",
       " '01zgzjcqmse',\n",
       " '02',\n",
       " '0280270']"
      ]
     },
     "execution_count": 105,
     "metadata": {},
     "output_type": "execute_result"
    }
   ],
   "source": [
    "cv.get_feature_names()[0:20]"
   ]
  },
  {
   "cell_type": "code",
   "execution_count": 48,
   "id": "4612b466",
   "metadata": {},
   "outputs": [
    {
     "data": {
      "text/plain": [
       "matrix([[0, 1, 0, ..., 0, 0, 0]], dtype=int64)"
      ]
     },
     "execution_count": 48,
     "metadata": {},
     "output_type": "execute_result"
    }
   ],
   "source": [
    "X_train_trf.todense()[0]"
   ]
  },
  {
   "cell_type": "code",
   "execution_count": 51,
   "id": "4fff03f9",
   "metadata": {},
   "outputs": [
    {
     "data": {
      "text/plain": [
       "'This is the nail in the coffin for the idea of the Christian God, imo. I 100% believed the Bible, believed in God, Jesus, the Holy Ghost, miracles, Angels, Devils, Demons, Heaven, Hell and the soul. I was indoctrinated from BIRTH to believe it and by golly it worked. I wanted to become a preacher, I wanted to tell people about Jesus because I truly believed they were going to hell! So how, after 30 years of head-in-the-sand belief, would God suddenly not be real to me? I honestly got \"saved\", baptized, and believed in literally everything. And now? Nothing. I believe there is no \"supreme being\". With literally everything in my life geared toward believing in God and being surrounded by what is said by Christians to be God\\'s creation, it should be *impossible* for me to not believe. I shouldn\\'t even be able to get here. The fact that I can NOT believe in God after all the conditioning in my life to believe in him, is the biggest personal proof I have that there is no God. \\n\\nIf their God wanted to bring me back \"into the fold\"...he knows what would get me there.'"
      ]
     },
     "execution_count": 51,
     "metadata": {},
     "output_type": "execute_result"
    }
   ],
   "source": [
    "X_train[0]"
   ]
  },
  {
   "cell_type": "markdown",
   "id": "ace9132a",
   "metadata": {},
   "source": [
    "## Run Preliminary Classifiers"
   ]
  },
  {
   "cell_type": "code",
   "execution_count": 107,
   "id": "fb2ef173",
   "metadata": {},
   "outputs": [],
   "source": [
    "from sklearn.ensemble import RandomForestClassifier\n",
    "from sklearn.svm import SVC\n",
    "from sklearn.pipeline import Pipeline\n",
    "from sklearn.metrics import confusion_matrix\n",
    "import xgboost as xgb"
   ]
  },
  {
   "cell_type": "code",
   "execution_count": 108,
   "id": "23cdb682",
   "metadata": {},
   "outputs": [],
   "source": [
    "def create_pipe(cls):\n",
    "    return Pipeline([\n",
    "        ('cvec',CountVectorizer(stop_words='english')),\n",
    "        ('cls',cls)\n",
    "    ])"
   ]
  },
  {
   "cell_type": "code",
   "execution_count": 109,
   "id": "0ae4bab2",
   "metadata": {},
   "outputs": [],
   "source": [
    "def run_classifier(cls,name):\n",
    "    print(f\"========= Running classifier: {name} =========\")\n",
    "    pipe=create_pipe(cls)\n",
    "    pipe.fit(X_train,y_train)\n",
    "    print(f\"Training accuracy: {pipe_rf.score(X_train,y_train):.4f}\")\n",
    "    print(f\"Test accuracy: {pipe_rf.score(X_test,y_test):.4f}\")\n",
    "    \n",
    "    tn, fp, fn, tp = confusion_matrix(y_test, pipe.predict(X_test)).ravel()\n",
    "    prec=tp/(tp+fp)\n",
    "    recall=tp/(tp+fn)\n",
    "    spec=tn/(tn+fp)\n",
    "    print(f\"Precision: {prec:.4f}\")\n",
    "    print(f\"Recall: {recall:.4f}\")\n",
    "    print(f\"Specificity: {spec:.4f}\")\n",
    "    print(f\"F1: {2*(prec*recall)/(prec+recall):.4f}\")"
   ]
  },
  {
   "cell_type": "code",
   "execution_count": 110,
   "id": "bf40b2a0",
   "metadata": {},
   "outputs": [],
   "source": [
    "classifiers=[\n",
    "    {\n",
    "        'cls':RandomForestClassifier(n_jobs=-1),\n",
    "        'name':'Random Forest'\n",
    "    },\n",
    "    {\n",
    "        'cls':SVC(),\n",
    "        'name':'SVC'\n",
    "    },\n",
    "    {\n",
    "        'cls':xgb.XGBClassifier(objective=\"binary:logistic\"),\n",
    "        'name':'XGBoost'\n",
    "    },\n",
    "]"
   ]
  },
  {
   "cell_type": "code",
   "execution_count": 111,
   "id": "47f51664",
   "metadata": {
    "scrolled": false
   },
   "outputs": [
    {
     "name": "stdout",
     "output_type": "stream",
     "text": [
      "========= Running classifier: Random Forest =========\n",
      "Training accuracy: 0.9995\n",
      "Test accuracy: 0.7987\n",
      "Precision: 0.8042\n",
      "Recall: 0.8368\n",
      "Specificity: 0.7952\n",
      "F1: 0.8202\n",
      "========= Running classifier: SVC =========\n",
      "Training accuracy: 0.9995\n",
      "Test accuracy: 0.7987\n",
      "Precision: 0.7670\n",
      "Recall: 0.8724\n",
      "Specificity: 0.7336\n",
      "F1: 0.8163\n",
      "========= Running classifier: XGBoost =========\n",
      "Training accuracy: 0.9995\n",
      "Test accuracy: 0.7987\n",
      "Precision: 0.7943\n",
      "Recall: 0.8477\n",
      "Specificity: 0.7793\n",
      "F1: 0.8201\n"
     ]
    }
   ],
   "source": [
    "for i in classifiers:\n",
    "    run_classifier(i['cls'],i['name'])"
   ]
  },
  {
   "cell_type": "markdown",
   "id": "6a5d322c",
   "metadata": {},
   "source": [
    "Running the 3 classifiers, we see that train accuracy and test accuracy is quite far apart.  \n",
    "There is significant overfit.  \n",
    "We will deal with this subsequently."
   ]
  }
 ],
 "metadata": {
  "kernelspec": {
   "display_name": "Python 3 (ipykernel)",
   "language": "python",
   "name": "python3"
  },
  "language_info": {
   "codemirror_mode": {
    "name": "ipython",
    "version": 3
   },
   "file_extension": ".py",
   "mimetype": "text/x-python",
   "name": "python",
   "nbconvert_exporter": "python",
   "pygments_lexer": "ipython3",
   "version": "3.9.12"
  }
 },
 "nbformat": 4,
 "nbformat_minor": 5
}
