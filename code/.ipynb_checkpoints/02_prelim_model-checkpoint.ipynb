{
 "cells": [
  {
   "cell_type": "code",
   "execution_count": 1,
   "id": "1522b74c",
   "metadata": {},
   "outputs": [],
   "source": [
    "import pickle\n",
    "import pandas as pd\n",
    "from sklearn.model_selection import train_test_split\n",
    "from sklearn.feature_extraction.text import CountVectorizer\n",
    "from sklearn.ensemble import RandomForestClassifier\n",
    "from sklearn.svm import SVC\n",
    "from sklearn.pipeline import Pipeline\n",
    "from sklearn.metrics import confusion_matrix, classification_report\n",
    "import xgboost as xgb"
   ]
  },
  {
   "cell_type": "code",
   "execution_count": 2,
   "id": "da05d3c0",
   "metadata": {},
   "outputs": [],
   "source": [
    "scrape_path_0=\"../scrape_file/scrapes_atheism.pickle\"\n",
    "scrape_path_1=\"../scrape_file/scrapes_christianity.pickle\""
   ]
  },
  {
   "cell_type": "code",
   "execution_count": 3,
   "id": "8cd9127c",
   "metadata": {},
   "outputs": [],
   "source": [
    "with open(scrape_path_0,'rb') as handle:\n",
    "    scrape0=pickle.load(handle)\n",
    "with open(scrape_path_1,'rb') as handle:\n",
    "    scrape1=pickle.load(handle)"
   ]
  },
  {
   "cell_type": "code",
   "execution_count": 4,
   "id": "1dfe7313",
   "metadata": {},
   "outputs": [],
   "source": [
    "df0=pd.DataFrame(scrape0,columns=[\"post\"])\n",
    "df0['label']=0\n",
    "\n",
    "df1=pd.DataFrame(scrape1,columns=[\"post\"])\n",
    "df1['label']=1\n",
    "\n",
    "df=pd.concat([df0,df1])\n",
    "df.reset_index(inplace=True,drop=True)"
   ]
  },
  {
   "cell_type": "code",
   "execution_count": 5,
   "id": "8fb03bbe",
   "metadata": {},
   "outputs": [
    {
     "data": {
      "text/html": [
       "<div>\n",
       "<style scoped>\n",
       "    .dataframe tbody tr th:only-of-type {\n",
       "        vertical-align: middle;\n",
       "    }\n",
       "\n",
       "    .dataframe tbody tr th {\n",
       "        vertical-align: top;\n",
       "    }\n",
       "\n",
       "    .dataframe thead th {\n",
       "        text-align: right;\n",
       "    }\n",
       "</style>\n",
       "<table border=\"1\" class=\"dataframe\">\n",
       "  <thead>\n",
       "    <tr style=\"text-align: right;\">\n",
       "      <th></th>\n",
       "      <th>post</th>\n",
       "      <th>label</th>\n",
       "    </tr>\n",
       "  </thead>\n",
       "  <tbody>\n",
       "    <tr>\n",
       "      <th>0</th>\n",
       "      <td>This is the nail in the coffin for the idea of...</td>\n",
       "      <td>0</td>\n",
       "    </tr>\n",
       "    <tr>\n",
       "      <th>1</th>\n",
       "      <td>I’m closeted, always been, and always will be....</td>\n",
       "      <td>0</td>\n",
       "    </tr>\n",
       "    <tr>\n",
       "      <th>2</th>\n",
       "      <td>The FIFA world cup in Qatar should be a remind...</td>\n",
       "      <td>0</td>\n",
       "    </tr>\n",
       "    <tr>\n",
       "      <th>3</th>\n",
       "      <td>We moved from the DC metro area last year to t...</td>\n",
       "      <td>0</td>\n",
       "    </tr>\n",
       "    <tr>\n",
       "      <th>4</th>\n",
       "      <td>They spend so much time focusing on arbitrary ...</td>\n",
       "      <td>0</td>\n",
       "    </tr>\n",
       "    <tr>\n",
       "      <th>...</th>\n",
       "      <td>...</td>\n",
       "      <td>...</td>\n",
       "    </tr>\n",
       "    <tr>\n",
       "      <th>10078</th>\n",
       "      <td>If Jesus died for our sins, what's keeping us ...</td>\n",
       "      <td>1</td>\n",
       "    </tr>\n",
       "    <tr>\n",
       "      <th>10079</th>\n",
       "      <td>Hello everybody it may seem like a dumb questi...</td>\n",
       "      <td>1</td>\n",
       "    </tr>\n",
       "    <tr>\n",
       "      <th>10080</th>\n",
       "      <td>Today's readings:\\n\\n1 Corinthians 1:4-8\\n\\n&amp;g...</td>\n",
       "      <td>1</td>\n",
       "    </tr>\n",
       "    <tr>\n",
       "      <th>10081</th>\n",
       "      <td>I don't propose this question in the sense of ...</td>\n",
       "      <td>1</td>\n",
       "    </tr>\n",
       "    <tr>\n",
       "      <th>10082</th>\n",
       "      <td>I'd like to preface this by saying that I've n...</td>\n",
       "      <td>1</td>\n",
       "    </tr>\n",
       "  </tbody>\n",
       "</table>\n",
       "<p>10083 rows × 2 columns</p>\n",
       "</div>"
      ],
      "text/plain": [
       "                                                    post  label\n",
       "0      This is the nail in the coffin for the idea of...      0\n",
       "1      I’m closeted, always been, and always will be....      0\n",
       "2      The FIFA world cup in Qatar should be a remind...      0\n",
       "3      We moved from the DC metro area last year to t...      0\n",
       "4      They spend so much time focusing on arbitrary ...      0\n",
       "...                                                  ...    ...\n",
       "10078  If Jesus died for our sins, what's keeping us ...      1\n",
       "10079  Hello everybody it may seem like a dumb questi...      1\n",
       "10080  Today's readings:\\n\\n1 Corinthians 1:4-8\\n\\n&g...      1\n",
       "10081  I don't propose this question in the sense of ...      1\n",
       "10082  I'd like to preface this by saying that I've n...      1\n",
       "\n",
       "[10083 rows x 2 columns]"
      ]
     },
     "execution_count": 5,
     "metadata": {},
     "output_type": "execute_result"
    }
   ],
   "source": [
    "df"
   ]
  },
  {
   "cell_type": "code",
   "execution_count": 6,
   "id": "bfb8b5c5",
   "metadata": {
    "scrolled": true
   },
   "outputs": [
    {
     "data": {
      "text/plain": [
       "0.5013388872359417"
      ]
     },
     "execution_count": 6,
     "metadata": {},
     "output_type": "execute_result"
    }
   ],
   "source": [
    "df['label'].mean()"
   ]
  },
  {
   "cell_type": "markdown",
   "id": "d45f0313",
   "metadata": {},
   "source": [
    "Quite an equal representation (50%) of labels are 1 and 0."
   ]
  },
  {
   "cell_type": "code",
   "execution_count": 7,
   "id": "bcc72b8a",
   "metadata": {},
   "outputs": [],
   "source": [
    "X=df['post']\n",
    "y=df['label']\n",
    "\n",
    "X_train, X_test, y_train, y_test = train_test_split(X,y,test_size=0.2,stratify=y,random_state=123)"
   ]
  },
  {
   "cell_type": "code",
   "execution_count": 8,
   "id": "68cba701",
   "metadata": {},
   "outputs": [
    {
     "data": {
      "text/plain": [
       "0        This is the nail in the coffin for the idea of...\n",
       "1        I’m closeted, always been, and always will be....\n",
       "2        The FIFA world cup in Qatar should be a remind...\n",
       "3        We moved from the DC metro area last year to t...\n",
       "4        They spend so much time focusing on arbitrary ...\n",
       "                               ...                        \n",
       "10078    If Jesus died for our sins, what's keeping us ...\n",
       "10079    Hello everybody it may seem like a dumb questi...\n",
       "10080    Today's readings:\\n\\n1 Corinthians 1:4-8\\n\\n&g...\n",
       "10081    I don't propose this question in the sense of ...\n",
       "10082    I'd like to preface this by saying that I've n...\n",
       "Name: post, Length: 10083, dtype: object"
      ]
     },
     "execution_count": 8,
     "metadata": {},
     "output_type": "execute_result"
    }
   ],
   "source": [
    "X"
   ]
  },
  {
   "cell_type": "code",
   "execution_count": 9,
   "id": "8ca1c04b",
   "metadata": {},
   "outputs": [
    {
     "data": {
      "text/html": [
       "<style>#sk-container-id-1 {color: black;background-color: white;}#sk-container-id-1 pre{padding: 0;}#sk-container-id-1 div.sk-toggleable {background-color: white;}#sk-container-id-1 label.sk-toggleable__label {cursor: pointer;display: block;width: 100%;margin-bottom: 0;padding: 0.3em;box-sizing: border-box;text-align: center;}#sk-container-id-1 label.sk-toggleable__label-arrow:before {content: \"▸\";float: left;margin-right: 0.25em;color: #696969;}#sk-container-id-1 label.sk-toggleable__label-arrow:hover:before {color: black;}#sk-container-id-1 div.sk-estimator:hover label.sk-toggleable__label-arrow:before {color: black;}#sk-container-id-1 div.sk-toggleable__content {max-height: 0;max-width: 0;overflow: hidden;text-align: left;background-color: #f0f8ff;}#sk-container-id-1 div.sk-toggleable__content pre {margin: 0.2em;color: black;border-radius: 0.25em;background-color: #f0f8ff;}#sk-container-id-1 input.sk-toggleable__control:checked~div.sk-toggleable__content {max-height: 200px;max-width: 100%;overflow: auto;}#sk-container-id-1 input.sk-toggleable__control:checked~label.sk-toggleable__label-arrow:before {content: \"▾\";}#sk-container-id-1 div.sk-estimator input.sk-toggleable__control:checked~label.sk-toggleable__label {background-color: #d4ebff;}#sk-container-id-1 div.sk-label input.sk-toggleable__control:checked~label.sk-toggleable__label {background-color: #d4ebff;}#sk-container-id-1 input.sk-hidden--visually {border: 0;clip: rect(1px 1px 1px 1px);clip: rect(1px, 1px, 1px, 1px);height: 1px;margin: -1px;overflow: hidden;padding: 0;position: absolute;width: 1px;}#sk-container-id-1 div.sk-estimator {font-family: monospace;background-color: #f0f8ff;border: 1px dotted black;border-radius: 0.25em;box-sizing: border-box;margin-bottom: 0.5em;}#sk-container-id-1 div.sk-estimator:hover {background-color: #d4ebff;}#sk-container-id-1 div.sk-parallel-item::after {content: \"\";width: 100%;border-bottom: 1px solid gray;flex-grow: 1;}#sk-container-id-1 div.sk-label:hover label.sk-toggleable__label {background-color: #d4ebff;}#sk-container-id-1 div.sk-serial::before {content: \"\";position: absolute;border-left: 1px solid gray;box-sizing: border-box;top: 0;bottom: 0;left: 50%;z-index: 0;}#sk-container-id-1 div.sk-serial {display: flex;flex-direction: column;align-items: center;background-color: white;padding-right: 0.2em;padding-left: 0.2em;position: relative;}#sk-container-id-1 div.sk-item {position: relative;z-index: 1;}#sk-container-id-1 div.sk-parallel {display: flex;align-items: stretch;justify-content: center;background-color: white;position: relative;}#sk-container-id-1 div.sk-item::before, #sk-container-id-1 div.sk-parallel-item::before {content: \"\";position: absolute;border-left: 1px solid gray;box-sizing: border-box;top: 0;bottom: 0;left: 50%;z-index: -1;}#sk-container-id-1 div.sk-parallel-item {display: flex;flex-direction: column;z-index: 1;position: relative;background-color: white;}#sk-container-id-1 div.sk-parallel-item:first-child::after {align-self: flex-end;width: 50%;}#sk-container-id-1 div.sk-parallel-item:last-child::after {align-self: flex-start;width: 50%;}#sk-container-id-1 div.sk-parallel-item:only-child::after {width: 0;}#sk-container-id-1 div.sk-dashed-wrapped {border: 1px dashed gray;margin: 0 0.4em 0.5em 0.4em;box-sizing: border-box;padding-bottom: 0.4em;background-color: white;}#sk-container-id-1 div.sk-label label {font-family: monospace;font-weight: bold;display: inline-block;line-height: 1.2em;}#sk-container-id-1 div.sk-label-container {text-align: center;}#sk-container-id-1 div.sk-container {/* jupyter's `normalize.less` sets `[hidden] { display: none; }` but bootstrap.min.css set `[hidden] { display: none !important; }` so we also need the `!important` here to be able to override the default hidden behavior on the sphinx rendered scikit-learn.org. See: https://github.com/scikit-learn/scikit-learn/issues/21755 */display: inline-block !important;position: relative;}#sk-container-id-1 div.sk-text-repr-fallback {display: none;}</style><div id=\"sk-container-id-1\" class=\"sk-top-container\"><div class=\"sk-text-repr-fallback\"><pre>CountVectorizer(stop_words=&#x27;english&#x27;)</pre><b>In a Jupyter environment, please rerun this cell to show the HTML representation or trust the notebook. <br />On GitHub, the HTML representation is unable to render, please try loading this page with nbviewer.org.</b></div><div class=\"sk-container\" hidden><div class=\"sk-item\"><div class=\"sk-estimator sk-toggleable\"><input class=\"sk-toggleable__control sk-hidden--visually\" id=\"sk-estimator-id-1\" type=\"checkbox\" checked><label for=\"sk-estimator-id-1\" class=\"sk-toggleable__label sk-toggleable__label-arrow\">CountVectorizer</label><div class=\"sk-toggleable__content\"><pre>CountVectorizer(stop_words=&#x27;english&#x27;)</pre></div></div></div></div></div>"
      ],
      "text/plain": [
       "CountVectorizer(stop_words='english')"
      ]
     },
     "execution_count": 9,
     "metadata": {},
     "output_type": "execute_result"
    }
   ],
   "source": [
    "cv=CountVectorizer(stop_words='english')\n",
    "cv.fit(X_train)"
   ]
  },
  {
   "cell_type": "code",
   "execution_count": 10,
   "id": "80bd0501",
   "metadata": {},
   "outputs": [],
   "source": [
    "X_train_trf=cv.transform(X_train)"
   ]
  },
  {
   "cell_type": "code",
   "execution_count": 11,
   "id": "cded54db",
   "metadata": {},
   "outputs": [
    {
     "data": {
      "text/plain": [
       "(8066, 33821)"
      ]
     },
     "execution_count": 11,
     "metadata": {},
     "output_type": "execute_result"
    }
   ],
   "source": [
    "X_train_trf.shape"
   ]
  },
  {
   "cell_type": "code",
   "execution_count": 12,
   "id": "1b7f777a",
   "metadata": {},
   "outputs": [
    {
     "name": "stderr",
     "output_type": "stream",
     "text": [
      "C:\\Users\\Gary\\anaconda3\\lib\\site-packages\\sklearn\\utils\\deprecation.py:87: FutureWarning: Function get_feature_names is deprecated; get_feature_names is deprecated in 1.0 and will be removed in 1.2. Please use get_feature_names_out instead.\n",
      "  warnings.warn(msg, category=FutureWarning)\n"
     ]
    },
    {
     "data": {
      "text/plain": [
       "['00',\n",
       " '000',\n",
       " '00050571',\n",
       " '000d3ad24077',\n",
       " '000d3ad24a0d',\n",
       " '000d3ad24c60',\n",
       " '000yrs',\n",
       " '001',\n",
       " '00120',\n",
       " '0055',\n",
       " '00729735256',\n",
       " '00a',\n",
       " '00am',\n",
       " '00s',\n",
       " '01',\n",
       " '013',\n",
       " '01660654507',\n",
       " '01zgzjcqmse',\n",
       " '02',\n",
       " '0280270']"
      ]
     },
     "execution_count": 12,
     "metadata": {},
     "output_type": "execute_result"
    }
   ],
   "source": [
    "cv.get_feature_names()[0:20]"
   ]
  },
  {
   "cell_type": "code",
   "execution_count": 13,
   "id": "8c63b1b8",
   "metadata": {},
   "outputs": [
    {
     "data": {
      "text/plain": [
       "matrix([[0, 1, 0, ..., 0, 0, 0]], dtype=int64)"
      ]
     },
     "execution_count": 13,
     "metadata": {},
     "output_type": "execute_result"
    }
   ],
   "source": [
    "X_train_trf.todense()[0]"
   ]
  },
  {
   "cell_type": "code",
   "execution_count": 14,
   "id": "18b4cc2f",
   "metadata": {},
   "outputs": [
    {
     "data": {
      "text/plain": [
       "'This is the nail in the coffin for the idea of the Christian God, imo. I 100% believed the Bible, believed in God, Jesus, the Holy Ghost, miracles, Angels, Devils, Demons, Heaven, Hell and the soul. I was indoctrinated from BIRTH to believe it and by golly it worked. I wanted to become a preacher, I wanted to tell people about Jesus because I truly believed they were going to hell! So how, after 30 years of head-in-the-sand belief, would God suddenly not be real to me? I honestly got \"saved\", baptized, and believed in literally everything. And now? Nothing. I believe there is no \"supreme being\". With literally everything in my life geared toward believing in God and being surrounded by what is said by Christians to be God\\'s creation, it should be *impossible* for me to not believe. I shouldn\\'t even be able to get here. The fact that I can NOT believe in God after all the conditioning in my life to believe in him, is the biggest personal proof I have that there is no God. \\n\\nIf their God wanted to bring me back \"into the fold\"...he knows what would get me there.'"
      ]
     },
     "execution_count": 14,
     "metadata": {},
     "output_type": "execute_result"
    }
   ],
   "source": [
    "X_train[0]"
   ]
  },
  {
   "cell_type": "markdown",
   "id": "17328fec",
   "metadata": {},
   "source": [
    "## Run Preliminary Classifiers"
   ]
  },
  {
   "cell_type": "code",
   "execution_count": 15,
   "id": "673eb6f9",
   "metadata": {},
   "outputs": [],
   "source": [
    "def create_pipe(cls):\n",
    "    return Pipeline([\n",
    "        ('cvec',CountVectorizer(stop_words='english')),\n",
    "        ('cls',cls)\n",
    "    ])"
   ]
  },
  {
   "cell_type": "code",
   "execution_count": 16,
   "id": "c3762e1e",
   "metadata": {},
   "outputs": [],
   "source": [
    "def run_classifier(cls,name):\n",
    "    print(f\"========= Running classifier: {name} =========\")\n",
    "    pipe=create_pipe(cls)\n",
    "    pipe.fit(X_train,y_train)\n",
    "    print(f\"Training accuracy: {pipe.score(X_train,y_train):.4f}\")\n",
    "    print(f\"Test accuracy: {pipe.score(X_test,y_test):.4f}\")\n",
    "    \n",
    "    tn, fp, fn, tp = confusion_matrix(y_test, pipe.predict(X_test)).ravel()\n",
    "    prec=tp/(tp+fp)\n",
    "    recall=tp/(tp+fn)\n",
    "    spec=tn/(tn+fp)\n",
    "    print(f\"Precision: {prec:.4f}\")\n",
    "    print(f\"Recall: {recall:.4f}\")\n",
    "    print(f\"Specificity: {spec:.4f}\")\n",
    "    print(f\"F1: {2*(prec*recall)/(prec+recall):.4f}\")\n",
    "    \n",
    "    print(classification_report(y_test, pipe.predict(X_test)))"
   ]
  },
  {
   "cell_type": "code",
   "execution_count": 17,
   "id": "eb9ea675",
   "metadata": {},
   "outputs": [],
   "source": [
    "classifiers=[\n",
    "    {\n",
    "        'cls':RandomForestClassifier(n_jobs=-1),\n",
    "        'name':'Random Forest'\n",
    "    },\n",
    "    {\n",
    "        'cls':SVC(),\n",
    "        'name':'SVC'\n",
    "    },\n",
    "    {\n",
    "        'cls':xgb.XGBClassifier(objective=\"binary:logistic\"),\n",
    "        'name':'XGBoost'\n",
    "    },\n",
    "]"
   ]
  },
  {
   "cell_type": "code",
   "execution_count": 18,
   "id": "62a2698c",
   "metadata": {
    "scrolled": false
   },
   "outputs": [
    {
     "name": "stdout",
     "output_type": "stream",
     "text": [
      "========= Running classifier: Random Forest =========\n",
      "Training accuracy: 0.9995\n",
      "Test accuracy: 0.8166\n",
      "Precision: 0.7993\n",
      "Recall: 0.8467\n",
      "Specificity: 0.7863\n",
      "F1: 0.8223\n",
      "              precision    recall  f1-score   support\n",
      "\n",
      "           0       0.84      0.79      0.81      1006\n",
      "           1       0.80      0.85      0.82      1011\n",
      "\n",
      "    accuracy                           0.82      2017\n",
      "   macro avg       0.82      0.82      0.82      2017\n",
      "weighted avg       0.82      0.82      0.82      2017\n",
      "\n",
      "========= Running classifier: SVC =========\n",
      "Training accuracy: 0.8944\n",
      "Test accuracy: 0.8032\n",
      "Precision: 0.7670\n",
      "Recall: 0.8724\n",
      "Specificity: 0.7336\n",
      "F1: 0.8163\n",
      "              precision    recall  f1-score   support\n",
      "\n",
      "           0       0.85      0.73      0.79      1006\n",
      "           1       0.77      0.87      0.82      1011\n",
      "\n",
      "    accuracy                           0.80      2017\n",
      "   macro avg       0.81      0.80      0.80      2017\n",
      "weighted avg       0.81      0.80      0.80      2017\n",
      "\n",
      "========= Running classifier: XGBoost =========\n",
      "Training accuracy: 0.9188\n",
      "Test accuracy: 0.8136\n",
      "Precision: 0.7943\n",
      "Recall: 0.8477\n",
      "Specificity: 0.7793\n",
      "F1: 0.8201\n",
      "              precision    recall  f1-score   support\n",
      "\n",
      "           0       0.84      0.78      0.81      1006\n",
      "           1       0.79      0.85      0.82      1011\n",
      "\n",
      "    accuracy                           0.81      2017\n",
      "   macro avg       0.82      0.81      0.81      2017\n",
      "weighted avg       0.81      0.81      0.81      2017\n",
      "\n"
     ]
    }
   ],
   "source": [
    "for i in classifiers:\n",
    "    run_classifier(i['cls'],i['name'])"
   ]
  },
  {
   "cell_type": "markdown",
   "id": "c3164724",
   "metadata": {},
   "source": [
    "Running the 3 classifiers, we see that train accuracy and test accuracy is quite far apart.  \n",
    "There is significant overfit.  \n",
    "We will deal with this subsequently."
   ]
  }
 ],
 "metadata": {
  "kernelspec": {
   "display_name": "Python 3 (ipykernel)",
   "language": "python",
   "name": "python3"
  },
  "language_info": {
   "codemirror_mode": {
    "name": "ipython",
    "version": 3
   },
   "file_extension": ".py",
   "mimetype": "text/x-python",
   "name": "python",
   "nbconvert_exporter": "python",
   "pygments_lexer": "ipython3",
   "version": "3.9.12"
  }
 },
 "nbformat": 4,
 "nbformat_minor": 5
}
