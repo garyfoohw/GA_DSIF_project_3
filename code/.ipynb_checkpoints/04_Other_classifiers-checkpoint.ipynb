{
 "cells": [
  {
   "cell_type": "code",
   "execution_count": 1,
   "id": "9864b9f8",
   "metadata": {},
   "outputs": [],
   "source": [
    "import pickle\n",
    "import pandas as pd\n",
    "from sklearn.model_selection import train_test_split, RandomizedSearchCV, cross_val_score, GridSearchCV\n",
    "from sklearn.feature_extraction.text import CountVectorizer, TfidfVectorizer\n",
    "from sklearn.ensemble import RandomForestClassifier\n",
    "from sklearn.naive_bayes import MultinomialNB\n",
    "\n",
    "# from sklearn.metrics import confusion_matrix, classification_report\n",
    "from xgboost import XGBClassifier\n",
    "from classifiers import Classifiers\n",
    "\n",
    "import matplotlib.pyplot as plt\n",
    "\n",
    "from nltk.corpus import stopwords\n",
    "\n",
    "from utils import create_pipe, run_classifiers, get_conf_matrix"
   ]
  },
  {
   "cell_type": "code",
   "execution_count": 2,
   "id": "f9103c79",
   "metadata": {},
   "outputs": [
    {
     "data": {
      "text/html": [
       "<div>\n",
       "<style scoped>\n",
       "    .dataframe tbody tr th:only-of-type {\n",
       "        vertical-align: middle;\n",
       "    }\n",
       "\n",
       "    .dataframe tbody tr th {\n",
       "        vertical-align: top;\n",
       "    }\n",
       "\n",
       "    .dataframe thead th {\n",
       "        text-align: right;\n",
       "    }\n",
       "</style>\n",
       "<table border=\"1\" class=\"dataframe\">\n",
       "  <thead>\n",
       "    <tr style=\"text-align: right;\">\n",
       "      <th></th>\n",
       "      <th>post</th>\n",
       "      <th>label</th>\n",
       "      <th>post2</th>\n",
       "    </tr>\n",
       "  </thead>\n",
       "  <tbody>\n",
       "    <tr>\n",
       "      <th>0</th>\n",
       "      <td>This is the nail in the coffin for the idea of...</td>\n",
       "      <td>0</td>\n",
       "      <td>This is the nail in the coffin for the idea of...</td>\n",
       "    </tr>\n",
       "    <tr>\n",
       "      <th>1</th>\n",
       "      <td>I’m closeted, always been, and always will be....</td>\n",
       "      <td>0</td>\n",
       "      <td>I’m closeted, always been, and always will be....</td>\n",
       "    </tr>\n",
       "    <tr>\n",
       "      <th>2</th>\n",
       "      <td>The FIFA world cup in Qatar should be a remind...</td>\n",
       "      <td>0</td>\n",
       "      <td>The FIFA world cup in Qatar should be a remind...</td>\n",
       "    </tr>\n",
       "    <tr>\n",
       "      <th>3</th>\n",
       "      <td>We moved from the DC metro area last year to t...</td>\n",
       "      <td>0</td>\n",
       "      <td>We moved from the DC metro area last year to t...</td>\n",
       "    </tr>\n",
       "    <tr>\n",
       "      <th>4</th>\n",
       "      <td>They spend so much time focusing on arbitrary ...</td>\n",
       "      <td>0</td>\n",
       "      <td>They spend so much time focusing on arbitrary ...</td>\n",
       "    </tr>\n",
       "    <tr>\n",
       "      <th>...</th>\n",
       "      <td>...</td>\n",
       "      <td>...</td>\n",
       "      <td>...</td>\n",
       "    </tr>\n",
       "    <tr>\n",
       "      <th>10078</th>\n",
       "      <td>If Jesus died for our sins, what's keeping us ...</td>\n",
       "      <td>1</td>\n",
       "      <td>If Jesus died for our sins, what's keeping u f...</td>\n",
       "    </tr>\n",
       "    <tr>\n",
       "      <th>10079</th>\n",
       "      <td>Hello everybody it may seem like a dumb questi...</td>\n",
       "      <td>1</td>\n",
       "      <td>Hello everybody it may seem like a dumb questi...</td>\n",
       "    </tr>\n",
       "    <tr>\n",
       "      <th>10080</th>\n",
       "      <td>Today's readings:  1 Corinthians 1:4-8  &amp;gt;I ...</td>\n",
       "      <td>1</td>\n",
       "      <td>Today's readings: 1 Corinthians 1:4-8 &amp;gt;I th...</td>\n",
       "    </tr>\n",
       "    <tr>\n",
       "      <th>10081</th>\n",
       "      <td>I don't propose this question in the sense of ...</td>\n",
       "      <td>1</td>\n",
       "      <td>I don't propose this question in the sense of ...</td>\n",
       "    </tr>\n",
       "    <tr>\n",
       "      <th>10082</th>\n",
       "      <td>I'd like to preface this by saying that I've n...</td>\n",
       "      <td>1</td>\n",
       "      <td>I'd like to preface this by saying that I've n...</td>\n",
       "    </tr>\n",
       "  </tbody>\n",
       "</table>\n",
       "<p>10083 rows × 3 columns</p>\n",
       "</div>"
      ],
      "text/plain": [
       "                                                    post  label  \\\n",
       "0      This is the nail in the coffin for the idea of...      0   \n",
       "1      I’m closeted, always been, and always will be....      0   \n",
       "2      The FIFA world cup in Qatar should be a remind...      0   \n",
       "3      We moved from the DC metro area last year to t...      0   \n",
       "4      They spend so much time focusing on arbitrary ...      0   \n",
       "...                                                  ...    ...   \n",
       "10078  If Jesus died for our sins, what's keeping us ...      1   \n",
       "10079  Hello everybody it may seem like a dumb questi...      1   \n",
       "10080  Today's readings:  1 Corinthians 1:4-8  &gt;I ...      1   \n",
       "10081  I don't propose this question in the sense of ...      1   \n",
       "10082  I'd like to preface this by saying that I've n...      1   \n",
       "\n",
       "                                                   post2  \n",
       "0      This is the nail in the coffin for the idea of...  \n",
       "1      I’m closeted, always been, and always will be....  \n",
       "2      The FIFA world cup in Qatar should be a remind...  \n",
       "3      We moved from the DC metro area last year to t...  \n",
       "4      They spend so much time focusing on arbitrary ...  \n",
       "...                                                  ...  \n",
       "10078  If Jesus died for our sins, what's keeping u f...  \n",
       "10079  Hello everybody it may seem like a dumb questi...  \n",
       "10080  Today's readings: 1 Corinthians 1:4-8 &gt;I th...  \n",
       "10081  I don't propose this question in the sense of ...  \n",
       "10082  I'd like to preface this by saying that I've n...  \n",
       "\n",
       "[10083 rows x 3 columns]"
      ]
     },
     "execution_count": 2,
     "metadata": {},
     "output_type": "execute_result"
    }
   ],
   "source": [
    "path=\"../data/combined.pickle\"\n",
    "\n",
    "try:\n",
    "    with open(path,'rb') as handle:\n",
    "        pickleload=pickle.load(handle)\n",
    "except FileNotFoundError as e:\n",
    "    e.strerror = \"Pls run 01_scrape_reddit first to pull the data and 02_EDA to merge data.\"\n",
    "    raise e\n",
    "\n",
    "df=pd.DataFrame(pickleload)\n",
    "\n",
    "df"
   ]
  },
  {
   "cell_type": "markdown",
   "id": "14178f3e",
   "metadata": {},
   "source": [
    "### Prepare the dataset"
   ]
  },
  {
   "cell_type": "code",
   "execution_count": 3,
   "id": "6315003e",
   "metadata": {},
   "outputs": [],
   "source": [
    "X=df['post']\n",
    "y=df['label']"
   ]
  },
  {
   "cell_type": "markdown",
   "id": "c57f0ad2",
   "metadata": {},
   "source": [
    "## Add Random Forest and XGBoost into the mix"
   ]
  },
  {
   "cell_type": "raw",
   "id": "982b21c1",
   "metadata": {},
   "source": [
    "classifiers_list=[\n",
    "    {\n",
    "        'cls':MultinomialNB(),\n",
    "        'name':'NaiveBayes',\n",
    "        'fixed_params':{'min_df': 0.05, 'max_features': 3500, 'max_df': 0.8,'use_idf': False, 'ngram_range': (1, 2)},\n",
    "    },\n",
    "    {\n",
    "        'cls':RandomForestClassifier(),\n",
    "        'name':'RandomForest',\n",
    "        'fixed_params':{'min_df': 0.05, 'max_features': 3500, 'max_df': 0.8,'use_idf': False, 'ngram_range': (1, 2)},\n",
    "        'float_params':{\n",
    "            'cls__max_depth':[60,80,100,120,140],\n",
    "            'cls__min_samples_split':[3,4,5,6,7],\n",
    "            'cls__min_samples_leaf':[2,3,4]\n",
    "        }\n",
    "    },\n",
    "    {\n",
    "        'cls':XGBClassifier(),\n",
    "        'name':'XGBoost',\n",
    "        'fixed_params':{'min_df': 0.05, 'max_features': 3500, 'max_df': 0.8,'use_idf': False, 'ngram_range': (1, 2)},\n",
    "        'float_params':{\n",
    "            'cls__eta':[0.08,0.1,0.12],\n",
    "            'cls__gamma':[1,10,20,50],\n",
    "            'cls__max_depth':[6,7,8],\n",
    "            'cls__subsample_bytree':[0.5,0.7,0.9]\n",
    "        }\n",
    "    }\n",
    "]\n",
    "run_classifiers(classifiers_list,X,y,tfidf=True)"
   ]
  },
  {
   "cell_type": "raw",
   "id": "a4c32d65",
   "metadata": {},
   "source": [
    "for classifier in classifiers_list:\n",
    "    name=classifier['name']\n",
    "    params={}\n",
    "    if 'params' in classifier:\n",
    "        kw={}\n",
    "        params=classifier['params']\n",
    "    cv=GridSearchCV(create_pipe(classifier['cls']),\n",
    "                     params,cv=5,n_jobs=-1)\n",
    "    cv.fit(X,y)\n",
    "    display(cv.best_params_)\n",
    "    display(cv.best_score_)"
   ]
  },
  {
   "cell_type": "markdown",
   "id": "3441f701",
   "metadata": {},
   "source": [
    "### Let's check out the top features as processed by `TfidfVectorizer`"
   ]
  },
  {
   "cell_type": "code",
   "execution_count": 15,
   "id": "7e1c1a5f",
   "metadata": {},
   "outputs": [],
   "source": [
    "X0=df[df['label']==0]['post']\n",
    "X1=df[df['label']==1]['post']\n",
    "\n",
    "fixed_params={'min_df': 0.05, 'max_features': 3500, 'max_df': 0.8,'use_idf': False, 'ngram_range': (1, 2)}\n",
    "tvec=TfidfVectorizer(stop_words=stopwords.words(\"english\"),token_pattern=\"[^\\W\\d_]+\", **fixed_params)"
   ]
  },
  {
   "cell_type": "code",
   "execution_count": 16,
   "id": "bf140e72",
   "metadata": {},
   "outputs": [],
   "source": [
    "X0_trf=tvec.fit_transform(X0)\n",
    "X0_df = pd.DataFrame(X0_trf.todense(), columns=tvec.get_feature_names_out())\n",
    "\n",
    "X1_trf=tvec.fit_transform(X1)\n",
    "X1_df = pd.DataFrame(X1_trf.todense(), columns=tvec.get_feature_names_out())"
   ]
  },
  {
   "cell_type": "code",
   "execution_count": 17,
   "id": "519fae49",
   "metadata": {},
   "outputs": [
    {
     "data": {
      "image/png": "[encoded data removed]",
      "text/plain": [
       "<Figure size 432x288 with 1 Axes>"
      ]
     },
     "metadata": {
      "needs_background": "light"
     },
     "output_type": "display_data"
    }
   ],
   "source": [
    "X0_df.sum().sort_values(ascending=True).tail(10).plot(kind='barh');"
   ]
  },
  {
   "cell_type": "code",
   "execution_count": 18,
   "id": "fa91fcbd",
   "metadata": {},
   "outputs": [
    {
     "data": {
      "image/png": "[encoded data removed]",
      "text/plain": [
       "<Figure size 432x288 with 1 Axes>"
      ]
     },
     "metadata": {
      "needs_background": "light"
     },
     "output_type": "display_data"
    }
   ],
   "source": [
    "X1_df.sum().sort_values(ascending=True).tail(10).plot(kind='barh');"
   ]
  },
  {
   "cell_type": "code",
   "execution_count": null,
   "id": "c39ec138",
   "metadata": {},
   "outputs": [],
   "source": []
  }
 ],
 "metadata": {
  "kernelspec": {
   "display_name": "Python 3 (ipykernel)",
   "language": "python",
   "name": "python3"
  },
  "language_info": {
   "codemirror_mode": {
    "name": "ipython",
    "version": 3
   },
   "file_extension": ".py",
   "mimetype": "text/x-python",
   "name": "python",
   "nbconvert_exporter": "python",
   "pygments_lexer": "ipython3",
   "version": "3.9.12"
  }
 },
 "nbformat": 4,
 "nbformat_minor": 5
}
