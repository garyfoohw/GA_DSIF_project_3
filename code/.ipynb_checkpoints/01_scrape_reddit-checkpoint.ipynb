{
 "cells": [
  {
   "cell_type": "code",
   "execution_count": 1,
   "id": "a79a3a5f",
   "metadata": {},
   "outputs": [],
   "source": [
    "import requests\n",
    "import json\n",
    "import pickle\n",
    "import time"
   ]
  },
  {
   "cell_type": "code",
   "execution_count": 2,
   "id": "60d8d00a",
   "metadata": {},
   "outputs": [],
   "source": [
    "baseurl=\"https://api.pushshift.io/reddit/search/submission?size=100&subreddit=\"\n",
    "subreddit=[\"atheism\",\"christianity\"]\n",
    "binary_scrapes=[]"
   ]
  },
  {
   "cell_type": "code",
   "execution_count": 3,
   "id": "99465128",
   "metadata": {},
   "outputs": [],
   "source": [
    "word_count_threshold=20\n",
    "min_posts_required=5000"
   ]
  },
  {
   "cell_type": "code",
   "execution_count": 4,
   "id": "116e660e",
   "metadata": {},
   "outputs": [],
   "source": [
    "def check(js,current_count,continue_flag,b_url,ss):\n",
    "    valid_posts_retrieved=current_count\n",
    "    data=js['data']\n",
    "    \n",
    "    for l in range(len(js['data'])):\n",
    "        try:\n",
    "            selftext=data[l]['selftext']\n",
    "            len_selftext=len(selftext.split())\n",
    "\n",
    "            if len_selftext >= word_count_threshold:\n",
    "                valid_posts_retrieved+=1\n",
    "                ss.append(selftext)\n",
    "        except:\n",
    "            continue\n",
    "    \n",
    "    if valid_posts_retrieved>min_posts_required:\n",
    "        continue_flag=False\n",
    "    else:\n",
    "        continue_flag=True\n",
    "    \n",
    "    last_epoch=data[-1]['created_utc']\n",
    "    url=f'{b_url}{last_epoch}'      \n",
    "    \n",
    "    print(f\"Posts obtained: {valid_posts_retrieved}\")\n",
    "    \n",
    "    return valid_posts_retrieved, continue_flag, url, saved_scrapes"
   ]
  },
  {
   "cell_type": "code",
   "execution_count": null,
   "id": "567a57c0",
   "metadata": {
    "scrolled": false
   },
   "outputs": [
    {
     "name": "stdout",
     "output_type": "stream",
     "text": [
      "----------------\n",
      "Running subreddit: atheism\n",
      "Posts obtained: 52\n",
      "Posts obtained: 108\n",
      "Posts obtained: 147\n"
     ]
    }
   ],
   "source": [
    "for sub in subreddit:\n",
    "    b_url=baseurl+sub+\"&before=\"\n",
    "    url=b_url\n",
    "    continue_flag=True\n",
    "    current_count=0\n",
    "    saved_scrapes=[]\n",
    "    \n",
    "    print(\"----------------\")\n",
    "    print(f\"Running subreddit: {sub}\")\n",
    "    \n",
    "    while continue_flag:\n",
    "        resp=requests.get(url)\n",
    "#         print(f\"Fetching url: {url}\")  #debug purpose only\n",
    "        js=json.loads(resp.text)\n",
    "        \n",
    "        current_count, continue_flag , url, saved_scrapes= check(js,current_count,continue_flag,b_url,saved_scrapes)\n",
    "        time.sleep(1)\n",
    "    \n",
    "    scrape_path=f\"../data/scrapes_{sub}.pickle\"\n",
    "    with open(scrape_path,'wb') as handle:\n",
    "        pickle.dump(saved_scrapes,handle)\n",
    "    print(f\"Dump file scrapes_{sub}.pickle saved\")"
   ]
  }
 ],
 "metadata": {
  "kernelspec": {
   "display_name": "Python 3 (ipykernel)",
   "language": "python",
   "name": "python3"
  },
  "language_info": {
   "codemirror_mode": {
    "name": "ipython",
    "version": 3
   },
   "file_extension": ".py",
   "mimetype": "text/x-python",
   "name": "python",
   "nbconvert_exporter": "python",
   "pygments_lexer": "ipython3",
   "version": "3.9.12"
  }
 },
 "nbformat": 4,
 "nbformat_minor": 5
}
