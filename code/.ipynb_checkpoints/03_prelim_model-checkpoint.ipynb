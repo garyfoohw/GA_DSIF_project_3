{
 "cells": [
  {
   "cell_type": "code",
   "execution_count": 1,
   "id": "1522b74c",
   "metadata": {},
   "outputs": [],
   "source": [
    "import pickle\n",
    "import pandas as pd\n",
    "from sklearn.model_selection import train_test_split\n",
    "from sklearn.feature_extraction.text import CountVectorizer\n",
    "from sklearn.ensemble import RandomForestClassifier\n",
    "from sklearn.svm import SVC\n",
    "from sklearn.naive_bayes import MultinomialNB\n",
    "from sklearn.pipeline import Pipeline\n",
    "# from sklearn.metrics import confusion_matrix, classification_report\n",
    "import xgboost as xgb\n",
    "from classifiers import Classifiers\n",
    "from nltk.corpus import stopwords\n",
    "import matplotlib.pyplot as plt"
   ]
  },
  {
   "cell_type": "code",
   "execution_count": 2,
   "id": "da05d3c0",
   "metadata": {},
   "outputs": [],
   "source": [
    "scrape_path_0=\"../scrape_file/scrapes_atheism.pickle\"\n",
    "scrape_path_1=\"../scrape_file/scrapes_christianity.pickle\"\n",
    "\n",
    "try:\n",
    "    with open(scrape_path_0,'rb') as handle:\n",
    "        scrape0=pickle.load(handle)\n",
    "    with open(scrape_path_1,'rb') as handle:\n",
    "        scrape1=pickle.load(handle)\n",
    "except FileNotFoundError as e:\n",
    "    e.strerror = \"Pls run 01_scrape_reddit first to pull the data.\"\n",
    "    raise e\n",
    "\n",
    "df0=pd.DataFrame(scrape0,columns=[\"post\"])\n",
    "df0['label']=0\n",
    "\n",
    "df1=pd.DataFrame(scrape1,columns=[\"post\"])\n",
    "df1['label']=1\n",
    "\n",
    "df=pd.concat([df0,df1])\n",
    "df.reset_index(inplace=True,drop=True)"
   ]
  },
  {
   "cell_type": "markdown",
   "id": "12e794af",
   "metadata": {},
   "source": [
    "### Prepare the dataset"
   ]
  },
  {
   "cell_type": "code",
   "execution_count": 3,
   "id": "bcc72b8a",
   "metadata": {},
   "outputs": [],
   "source": [
    "X=df['post']\n",
    "y=df['label']\n",
    "\n",
    "X_train, X_test, y_train, y_test = train_test_split(X,y,test_size=0.2,stratify=y,random_state=123)"
   ]
  },
  {
   "cell_type": "code",
   "execution_count": 4,
   "id": "68cba701",
   "metadata": {},
   "outputs": [
    {
     "data": {
      "text/plain": [
       "0        It’s actually just sad that I see these pastor...\n",
       "1        TLDR: I love my Christian mother, but she has ...\n",
       "2        I literally posted here like an hour or so ago...\n",
       "3        My wife and I are in the middle of loading the...\n",
       "4        This is the nail in the coffin for the idea of...\n",
       "                               ...                        \n",
       "10076    Jesus lived a perfect life, and died in your p...\n",
       "10077    Why don't nuns wear the blue coat, red dress a...\n",
       "10078    I've had a lack of appetite for sometime and n...\n",
       "10079    Title says it all. Wondering if anyone can giv...\n",
       "10080    You don't have to be in Tennessee. If you have...\n",
       "Name: post, Length: 10081, dtype: object"
      ]
     },
     "execution_count": 4,
     "metadata": {},
     "output_type": "execute_result"
    }
   ],
   "source": [
    "X"
   ]
  },
  {
   "cell_type": "code",
   "execution_count": 5,
   "id": "39721d27",
   "metadata": {},
   "outputs": [
    {
     "name": "stdout",
     "output_type": "stream",
     "text": [
      "Number of features: 37776\n",
      "Features:\n",
      "['00' '000' '000000248' ... '𝚖𝚊𝚔𝚎𝚛' '𝚗𝚘' '𝚠𝚊𝚝𝚌𝚑']\n"
     ]
    }
   ],
   "source": [
    "cv=CountVectorizer(stop_words=stopwords.words(\"english\"))\n",
    "X=df['post']\n",
    "\n",
    "cv.fit_transform(X)\n",
    "feat_list=cv.get_feature_names_out()\n",
    "#number of features\n",
    "print(f\"Number of features: {len(feat_list)}\")\n",
    "print(\"Features:\")\n",
    "print(feat_list)"
   ]
  },
  {
   "cell_type": "markdown",
   "id": "b83a64e3",
   "metadata": {},
   "source": [
    "It is interesting to note that the list of features is 37k long, and have a list of numbers.\n",
    "Let's remove them next."
   ]
  },
  {
   "cell_type": "code",
   "execution_count": 6,
   "id": "4603d13a",
   "metadata": {},
   "outputs": [
    {
     "name": "stdout",
     "output_type": "stream",
     "text": [
      "Number of features: 36200\n",
      "Features:\n",
      "['aa' 'aaaaaaaa' 'aaaaaaaacwk' ... '𝚖𝚊𝚔𝚎𝚛' '𝚗𝚘' '𝚠𝚊𝚝𝚌𝚑']\n"
     ]
    }
   ],
   "source": [
    "cv=CountVectorizer(stop_words=stopwords.words(\"english\"),token_pattern=\"[^\\W\\d_]+\")\n",
    "X=df['post']\n",
    "\n",
    "cv.fit_transform(X)\n",
    "feat_list=cv.get_feature_names_out()\n",
    "#number of features\n",
    "print(f\"Number of features: {len(feat_list)}\")\n",
    "print(\"Features:\")\n",
    "print(feat_list)"
   ]
  },
  {
   "cell_type": "markdown",
   "id": "3f17434c",
   "metadata": {},
   "source": [
    "The list of feature shortens to 36k"
   ]
  },
  {
   "cell_type": "markdown",
   "id": "17328fec",
   "metadata": {},
   "source": [
    "## Run Preliminary Classification on Naive Bayes"
   ]
  },
  {
   "cell_type": "code",
   "execution_count": 7,
   "id": "673eb6f9",
   "metadata": {},
   "outputs": [],
   "source": [
    "def create_pipe(cls):\n",
    "    return Pipeline([\n",
    "        ('cvec',CountVectorizer(stop_words=stopwords.words(\"english\"),\n",
    "                                token_pattern=\"[^\\W\\d_]+\",)),\n",
    "#                                max_features=2000)),\n",
    "#                                max_df=0.95,min_df=0.2,max_features=10000)),        \n",
    "        ('cls',cls)\n",
    "    ])"
   ]
  },
  {
   "cell_type": "code",
   "execution_count": 16,
   "id": "b379fa2e",
   "metadata": {},
   "outputs": [],
   "source": [
    "classifiers=Classifiers(create_pipe,X,y,123)"
   ]
  },
  {
   "cell_type": "code",
   "execution_count": 17,
   "id": "eb9ea675",
   "metadata": {},
   "outputs": [],
   "source": [
    "classifiers_list=[\n",
    "    {\n",
    "        'cls':MultinomialNB(),\n",
    "        'name':'NaiveBayes',\n",
    "        'params':[{'max_features':range(200,4000,200)}]\n",
    "    },\n",
    "#     {\n",
    "#         'cls':RandomForestClassifier(n_jobs=-1),\n",
    "#         'name':'RandomForest'\n",
    "#     },\n",
    "#     {\n",
    "#         'cls':SVC(),\n",
    "#         'name':'SVC'\n",
    "#     },\n",
    "#     {\n",
    "#         'cls':xgb.XGBClassifier(objective=\"binary:logistic\"),\n",
    "#         'name':'XGBoost'\n",
    "#     },\n",
    "]"
   ]
  },
  {
   "cell_type": "code",
   "execution_count": 18,
   "id": "62a2698c",
   "metadata": {
    "scrolled": false
   },
   "outputs": [
    {
     "name": "stdout",
     "output_type": "stream",
     "text": [
      "========= Running classifier: NaiveBayes =========\n"
     ]
    }
   ],
   "source": [
    "for classifier in classifiers_list:\n",
    "    classifiers.run_classifier(classifier['cls'],classifier['name'])"
   ]
  },
  {
   "cell_type": "markdown",
   "id": "c3164724",
   "metadata": {},
   "source": [
    "Roughly a 9% overfit.  \n",
    "Let's try to reduce that by controlling the `max_features` of `CountVectorizer`"
   ]
  },
  {
   "cell_type": "code",
   "execution_count": 19,
   "id": "d73dbf23",
   "metadata": {},
   "outputs": [],
   "source": [
    "def create_pipe(cls,**kwargs):\n",
    "    return Pipeline([\n",
    "        ('cvec',CountVectorizer(stop_words=stopwords.words(\"english\"),\n",
    "                                token_pattern=\"[^\\W\\d_]+\",\n",
    "                                **kwargs)),\n",
    "        ('cls',cls)\n",
    "    ])"
   ]
  },
  {
   "cell_type": "code",
   "execution_count": 20,
   "id": "f286ea37",
   "metadata": {},
   "outputs": [],
   "source": [
    "classifiers=Classifiers(create_pipe,X,y,123)"
   ]
  },
  {
   "cell_type": "code",
   "execution_count": 21,
   "id": "7e242f87",
   "metadata": {},
   "outputs": [
    {
     "name": "stdout",
     "output_type": "stream",
     "text": [
      "Running paramter: {'max_features': 200}\n",
      "========= Running classifier: NaiveBayes =========\n",
      "Running paramter: {'max_features': 400}\n",
      "========= Running classifier: NaiveBayes =========\n",
      "Running paramter: {'max_features': 600}\n",
      "========= Running classifier: NaiveBayes =========\n",
      "Running paramter: {'max_features': 800}\n",
      "========= Running classifier: NaiveBayes =========\n",
      "Running paramter: {'max_features': 1000}\n",
      "========= Running classifier: NaiveBayes =========\n",
      "Running paramter: {'max_features': 1200}\n",
      "========= Running classifier: NaiveBayes =========\n",
      "Running paramter: {'max_features': 1400}\n",
      "========= Running classifier: NaiveBayes =========\n",
      "Running paramter: {'max_features': 1600}\n",
      "========= Running classifier: NaiveBayes =========\n",
      "Running paramter: {'max_features': 1800}\n",
      "========= Running classifier: NaiveBayes =========\n",
      "Running paramter: {'max_features': 2000}\n",
      "========= Running classifier: NaiveBayes =========\n",
      "Running paramter: {'max_features': 2200}\n",
      "========= Running classifier: NaiveBayes =========\n",
      "Running paramter: {'max_features': 2400}\n",
      "========= Running classifier: NaiveBayes =========\n",
      "Running paramter: {'max_features': 2600}\n",
      "========= Running classifier: NaiveBayes =========\n",
      "Running paramter: {'max_features': 2800}\n",
      "========= Running classifier: NaiveBayes =========\n",
      "Running paramter: {'max_features': 3000}\n",
      "========= Running classifier: NaiveBayes =========\n",
      "Running paramter: {'max_features': 3200}\n",
      "========= Running classifier: NaiveBayes =========\n",
      "Running paramter: {'max_features': 3400}\n",
      "========= Running classifier: NaiveBayes =========\n",
      "Running paramter: {'max_features': 3600}\n",
      "========= Running classifier: NaiveBayes =========\n",
      "Running paramter: {'max_features': 3800}\n",
      "========= Running classifier: NaiveBayes =========\n"
     ]
    }
   ],
   "source": [
    "for classifier in classifiers_list:\n",
    "    name=classifier['name']\n",
    "    globals()[f'perf_results_{name}']=[]\n",
    "    if 'params' in classifier:\n",
    "        kw={}\n",
    "        params=classifier['params']\n",
    "        for param in params:\n",
    "            for k,v in param.items():\n",
    "                for vi in v:\n",
    "                    kw[k]=vi\n",
    "                    print(f\"Running paramter: {kw}\")\n",
    "                    rtn=classifiers.run_classifier(classifier['cls'],classifier['name'],**kw)\n",
    "                    rtn[k]=vi\n",
    "#                     display(rtn)\n",
    "                    globals()[f'perf_results_{name}'].append(rtn)\n",
    "    else:\n",
    "        globals()[f'perf_results_{name}'].append(classifiers.run_classifier(classifier['cls'],classifier['name']))"
   ]
  },
  {
   "cell_type": "code",
   "execution_count": 22,
   "id": "1c446630",
   "metadata": {},
   "outputs": [
    {
     "data": {
      "text/html": [
       "<div>\n",
       "<style scoped>\n",
       "    .dataframe tbody tr th:only-of-type {\n",
       "        vertical-align: middle;\n",
       "    }\n",
       "\n",
       "    .dataframe tbody tr th {\n",
       "        vertical-align: top;\n",
       "    }\n",
       "\n",
       "    .dataframe thead th {\n",
       "        text-align: right;\n",
       "    }\n",
       "</style>\n",
       "<table border=\"1\" class=\"dataframe\">\n",
       "  <thead>\n",
       "    <tr style=\"text-align: right;\">\n",
       "      <th></th>\n",
       "      <th>Train acc</th>\n",
       "      <th>Test acc</th>\n",
       "      <th>Test Precision</th>\n",
       "      <th>Test Recall</th>\n",
       "      <th>Test Specificity</th>\n",
       "      <th>Test F1</th>\n",
       "      <th>max_features</th>\n",
       "    </tr>\n",
       "  </thead>\n",
       "  <tbody>\n",
       "    <tr>\n",
       "      <th>0</th>\n",
       "      <td>0.738022</td>\n",
       "      <td>0.735640</td>\n",
       "      <td>0.767926</td>\n",
       "      <td>0.677531</td>\n",
       "      <td>0.794206</td>\n",
       "      <td>0.719823</td>\n",
       "      <td>200</td>\n",
       "    </tr>\n",
       "    <tr>\n",
       "      <th>1</th>\n",
       "      <td>0.763937</td>\n",
       "      <td>0.756770</td>\n",
       "      <td>0.798795</td>\n",
       "      <td>0.688460</td>\n",
       "      <td>0.825615</td>\n",
       "      <td>0.739444</td>\n",
       "      <td>400</td>\n",
       "    </tr>\n",
       "    <tr>\n",
       "      <th>2</th>\n",
       "      <td>0.774353</td>\n",
       "      <td>0.766590</td>\n",
       "      <td>0.817317</td>\n",
       "      <td>0.688409</td>\n",
       "      <td>0.845302</td>\n",
       "      <td>0.747294</td>\n",
       "      <td>600</td>\n",
       "    </tr>\n",
       "    <tr>\n",
       "      <th>3</th>\n",
       "      <td>0.780602</td>\n",
       "      <td>0.770657</td>\n",
       "      <td>0.822961</td>\n",
       "      <td>0.691407</td>\n",
       "      <td>0.850478</td>\n",
       "      <td>0.751402</td>\n",
       "      <td>800</td>\n",
       "    </tr>\n",
       "    <tr>\n",
       "      <th>4</th>\n",
       "      <td>0.786455</td>\n",
       "      <td>0.773038</td>\n",
       "      <td>0.828164</td>\n",
       "      <td>0.690824</td>\n",
       "      <td>0.855886</td>\n",
       "      <td>0.753177</td>\n",
       "      <td>1000</td>\n",
       "    </tr>\n",
       "    <tr>\n",
       "      <th>5</th>\n",
       "      <td>0.790993</td>\n",
       "      <td>0.777204</td>\n",
       "      <td>0.833064</td>\n",
       "      <td>0.694973</td>\n",
       "      <td>0.860052</td>\n",
       "      <td>0.757673</td>\n",
       "      <td>1200</td>\n",
       "    </tr>\n",
       "    <tr>\n",
       "      <th>6</th>\n",
       "      <td>0.794465</td>\n",
       "      <td>0.781370</td>\n",
       "      <td>0.840912</td>\n",
       "      <td>0.695569</td>\n",
       "      <td>0.867769</td>\n",
       "      <td>0.761288</td>\n",
       "      <td>1400</td>\n",
       "    </tr>\n",
       "    <tr>\n",
       "      <th>7</th>\n",
       "      <td>0.798829</td>\n",
       "      <td>0.784743</td>\n",
       "      <td>0.844356</td>\n",
       "      <td>0.699741</td>\n",
       "      <td>0.870365</td>\n",
       "      <td>0.765188</td>\n",
       "      <td>1600</td>\n",
       "    </tr>\n",
       "    <tr>\n",
       "      <th>8</th>\n",
       "      <td>0.804608</td>\n",
       "      <td>0.787719</td>\n",
       "      <td>0.847907</td>\n",
       "      <td>0.702690</td>\n",
       "      <td>0.873316</td>\n",
       "      <td>0.768444</td>\n",
       "      <td>1800</td>\n",
       "    </tr>\n",
       "    <tr>\n",
       "      <th>9</th>\n",
       "      <td>0.807261</td>\n",
       "      <td>0.788710</td>\n",
       "      <td>0.848789</td>\n",
       "      <td>0.704090</td>\n",
       "      <td>0.873926</td>\n",
       "      <td>0.769625</td>\n",
       "      <td>2000</td>\n",
       "    </tr>\n",
       "    <tr>\n",
       "      <th>10</th>\n",
       "      <td>0.808799</td>\n",
       "      <td>0.789604</td>\n",
       "      <td>0.850936</td>\n",
       "      <td>0.703902</td>\n",
       "      <td>0.875961</td>\n",
       "      <td>0.770346</td>\n",
       "      <td>2200</td>\n",
       "    </tr>\n",
       "    <tr>\n",
       "      <th>11</th>\n",
       "      <td>0.810237</td>\n",
       "      <td>0.789802</td>\n",
       "      <td>0.853386</td>\n",
       "      <td>0.701527</td>\n",
       "      <td>0.878733</td>\n",
       "      <td>0.769915</td>\n",
       "      <td>2400</td>\n",
       "    </tr>\n",
       "    <tr>\n",
       "      <th>12</th>\n",
       "      <td>0.813362</td>\n",
       "      <td>0.792182</td>\n",
       "      <td>0.855887</td>\n",
       "      <td>0.704323</td>\n",
       "      <td>0.880710</td>\n",
       "      <td>0.772620</td>\n",
       "      <td>2600</td>\n",
       "    </tr>\n",
       "    <tr>\n",
       "      <th>13</th>\n",
       "      <td>0.815842</td>\n",
       "      <td>0.791885</td>\n",
       "      <td>0.856288</td>\n",
       "      <td>0.703111</td>\n",
       "      <td>0.881316</td>\n",
       "      <td>0.772063</td>\n",
       "      <td>2800</td>\n",
       "    </tr>\n",
       "    <tr>\n",
       "      <th>14</th>\n",
       "      <td>0.817305</td>\n",
       "      <td>0.795258</td>\n",
       "      <td>0.861453</td>\n",
       "      <td>0.705292</td>\n",
       "      <td>0.885912</td>\n",
       "      <td>0.775444</td>\n",
       "      <td>3000</td>\n",
       "    </tr>\n",
       "    <tr>\n",
       "      <th>15</th>\n",
       "      <td>0.818991</td>\n",
       "      <td>0.797638</td>\n",
       "      <td>0.865007</td>\n",
       "      <td>0.706868</td>\n",
       "      <td>0.889086</td>\n",
       "      <td>0.777846</td>\n",
       "      <td>3200</td>\n",
       "    </tr>\n",
       "    <tr>\n",
       "      <th>16</th>\n",
       "      <td>0.820504</td>\n",
       "      <td>0.797440</td>\n",
       "      <td>0.865656</td>\n",
       "      <td>0.705681</td>\n",
       "      <td>0.889873</td>\n",
       "      <td>0.777390</td>\n",
       "      <td>3400</td>\n",
       "    </tr>\n",
       "    <tr>\n",
       "      <th>17</th>\n",
       "      <td>0.822240</td>\n",
       "      <td>0.797043</td>\n",
       "      <td>0.864648</td>\n",
       "      <td>0.705874</td>\n",
       "      <td>0.888878</td>\n",
       "      <td>0.777117</td>\n",
       "      <td>3600</td>\n",
       "    </tr>\n",
       "    <tr>\n",
       "      <th>18</th>\n",
       "      <td>0.823257</td>\n",
       "      <td>0.796151</td>\n",
       "      <td>0.862583</td>\n",
       "      <td>0.706048</td>\n",
       "      <td>0.886881</td>\n",
       "      <td>0.776410</td>\n",
       "      <td>3800</td>\n",
       "    </tr>\n",
       "  </tbody>\n",
       "</table>\n",
       "</div>"
      ],
      "text/plain": [
       "    Train acc  Test acc  Test Precision  Test Recall  Test Specificity  \\\n",
       "0    0.738022  0.735640        0.767926     0.677531          0.794206   \n",
       "1    0.763937  0.756770        0.798795     0.688460          0.825615   \n",
       "2    0.774353  0.766590        0.817317     0.688409          0.845302   \n",
       "3    0.780602  0.770657        0.822961     0.691407          0.850478   \n",
       "4    0.786455  0.773038        0.828164     0.690824          0.855886   \n",
       "5    0.790993  0.777204        0.833064     0.694973          0.860052   \n",
       "6    0.794465  0.781370        0.840912     0.695569          0.867769   \n",
       "7    0.798829  0.784743        0.844356     0.699741          0.870365   \n",
       "8    0.804608  0.787719        0.847907     0.702690          0.873316   \n",
       "9    0.807261  0.788710        0.848789     0.704090          0.873926   \n",
       "10   0.808799  0.789604        0.850936     0.703902          0.875961   \n",
       "11   0.810237  0.789802        0.853386     0.701527          0.878733   \n",
       "12   0.813362  0.792182        0.855887     0.704323          0.880710   \n",
       "13   0.815842  0.791885        0.856288     0.703111          0.881316   \n",
       "14   0.817305  0.795258        0.861453     0.705292          0.885912   \n",
       "15   0.818991  0.797638        0.865007     0.706868          0.889086   \n",
       "16   0.820504  0.797440        0.865656     0.705681          0.889873   \n",
       "17   0.822240  0.797043        0.864648     0.705874          0.888878   \n",
       "18   0.823257  0.796151        0.862583     0.706048          0.886881   \n",
       "\n",
       "     Test F1  max_features  \n",
       "0   0.719823           200  \n",
       "1   0.739444           400  \n",
       "2   0.747294           600  \n",
       "3   0.751402           800  \n",
       "4   0.753177          1000  \n",
       "5   0.757673          1200  \n",
       "6   0.761288          1400  \n",
       "7   0.765188          1600  \n",
       "8   0.768444          1800  \n",
       "9   0.769625          2000  \n",
       "10  0.770346          2200  \n",
       "11  0.769915          2400  \n",
       "12  0.772620          2600  \n",
       "13  0.772063          2800  \n",
       "14  0.775444          3000  \n",
       "15  0.777846          3200  \n",
       "16  0.777390          3400  \n",
       "17  0.777117          3600  \n",
       "18  0.776410          3800  "
      ]
     },
     "execution_count": 22,
     "metadata": {},
     "output_type": "execute_result"
    }
   ],
   "source": [
    "perf_results_NaiveBayes_df=pd.DataFrame(perf_results_NaiveBayes,)\n",
    "#                                         columns=[\"Train acc\",\"Test acc\",\"Test Precision\",\"Test Recall\",\"Test Specificity\",\"Test F1\"])\n",
    "perf_results_NaiveBayes_df"
   ]
  },
  {
   "cell_type": "code",
   "execution_count": 27,
   "id": "fd323865",
   "metadata": {},
   "outputs": [
    {
     "data": {
      "image/png": "[encoded data removed]",
      "text/plain": [
       "<Figure size 1080x360 with 2 Axes>"
      ]
     },
     "metadata": {
      "needs_background": "light"
     },
     "output_type": "display_data"
    }
   ],
   "source": [
    "fig, (ax1, ax2) = plt.subplots(1, 2)\n",
    "fig.suptitle('Accuracy and F1 vs max_features')\n",
    "ax1.plot(perf_results_NaiveBayes_df['max_features'], perf_results_NaiveBayes_df['Train acc'],label=\"Train acc\")\n",
    "ax1.plot(perf_results_NaiveBayes_df['max_features'], perf_results_NaiveBayes_df['Test acc'],label=\"Test acc\")\n",
    "ax1.axvline(x=2200, ymin=0, ymax=1, color=\"green\")\n",
    "ax1.legend()\n",
    "\n",
    "ax2.plot(perf_results_NaiveBayes_df['max_features'], perf_results_NaiveBayes_df['Test F1'],label=\"Test F1\")\n",
    "ax2.axvline(x=2200, ymin=0, ymax=1, color=\"green\")\n",
    "ax2.legend()\n",
    "\n",
    "fig.set_figwidth(15)\n",
    "fig.set_figheight(5)"
   ]
  },
  {
   "cell_type": "markdown",
   "id": "20c67111",
   "metadata": {},
   "source": [
    "Visually, a comfortable `max_features` to be 2200, where the train/test accuracy is within 2% difference."
   ]
  }
 ],
 "metadata": {
  "kernelspec": {
   "display_name": "Python 3 (ipykernel)",
   "language": "python",
   "name": "python3"
  },
  "language_info": {
   "codemirror_mode": {
    "name": "ipython",
    "version": 3
   },
   "file_extension": ".py",
   "mimetype": "text/x-python",
   "name": "python",
   "nbconvert_exporter": "python",
   "pygments_lexer": "ipython3",
   "version": "3.9.12"
  }
 },
 "nbformat": 4,
 "nbformat_minor": 5
}
