{
 "cells": [
  {
   "cell_type": "code",
   "execution_count": 1,
   "id": "1522b74c",
   "metadata": {},
   "outputs": [],
   "source": [
    "import pickle\n",
    "import pandas as pd\n",
    "from sklearn.model_selection import train_test_split\n",
    "from sklearn.feature_extraction.text import CountVectorizer\n",
    "from sklearn.ensemble import RandomForestClassifier\n",
    "from sklearn.svm import SVC\n",
    "from sklearn.naive_bayes import MultinomialNB\n",
    "from sklearn.pipeline import Pipeline\n",
    "# from sklearn.metrics import confusion_matrix, classification_report\n",
    "import xgboost as xgb\n",
    "from classifiers import Classifiers\n",
    "from nltk.corpus import stopwords"
   ]
  },
  {
   "cell_type": "code",
   "execution_count": 2,
   "id": "da05d3c0",
   "metadata": {},
   "outputs": [],
   "source": [
    "scrape_path_0=\"../scrape_file/scrapes_atheism.pickle\"\n",
    "scrape_path_1=\"../scrape_file/scrapes_christianity.pickle\"\n",
    "\n",
    "try:\n",
    "    with open(scrape_path_0,'rb') as handle:\n",
    "        scrape0=pickle.load(handle)\n",
    "    with open(scrape_path_1,'rb') as handle:\n",
    "        scrape1=pickle.load(handle)\n",
    "except FileNotFoundError as e:\n",
    "    e.strerror = \"Pls run 01_scrape_reddit first to pull the data.\"\n",
    "    raise e\n",
    "\n",
    "df0=pd.DataFrame(scrape0,columns=[\"post\"])\n",
    "df0['label']=0\n",
    "\n",
    "df1=pd.DataFrame(scrape1,columns=[\"post\"])\n",
    "df1['label']=1\n",
    "\n",
    "df=pd.concat([df0,df1])\n",
    "df.reset_index(inplace=True,drop=True)"
   ]
  },
  {
   "cell_type": "markdown",
   "id": "2931f5bd",
   "metadata": {},
   "source": [
    "### Prepare the dataset"
   ]
  },
  {
   "cell_type": "code",
   "execution_count": 3,
   "id": "bcc72b8a",
   "metadata": {},
   "outputs": [],
   "source": [
    "X=df['post']\n",
    "y=df['label']\n",
    "\n",
    "X_train, X_test, y_train, y_test = train_test_split(X,y,test_size=0.2,stratify=y,random_state=123)"
   ]
  },
  {
   "cell_type": "code",
   "execution_count": 4,
   "id": "68cba701",
   "metadata": {},
   "outputs": [
    {
     "data": {
      "text/plain": [
       "0        It’s actually just sad that I see these pastor...\n",
       "1        TLDR: I love my Christian mother, but she has ...\n",
       "2        I literally posted here like an hour or so ago...\n",
       "3        My wife and I are in the middle of loading the...\n",
       "4        This is the nail in the coffin for the idea of...\n",
       "                               ...                        \n",
       "10076    Jesus lived a perfect life, and died in your p...\n",
       "10077    Why don't nuns wear the blue coat, red dress a...\n",
       "10078    I've had a lack of appetite for sometime and n...\n",
       "10079    Title says it all. Wondering if anyone can giv...\n",
       "10080    You don't have to be in Tennessee. If you have...\n",
       "Name: post, Length: 10081, dtype: object"
      ]
     },
     "execution_count": 4,
     "metadata": {},
     "output_type": "execute_result"
    }
   ],
   "source": [
    "X"
   ]
  },
  {
   "cell_type": "code",
   "execution_count": 5,
   "id": "958912bb",
   "metadata": {},
   "outputs": [
    {
     "data": {
      "text/plain": [
       "36200"
      ]
     },
     "execution_count": 5,
     "metadata": {},
     "output_type": "execute_result"
    }
   ],
   "source": [
    "cv=CountVectorizer(stop_words=stopwords.words(\"english\"),token_pattern=\"[^\\W\\d_]+\")\n",
    "\n",
    "cv.fit_transform(X)\n",
    "\n",
    "arr_=cv.get_feature_names_out()\n",
    "#number of features\n",
    "len(arr_)"
   ]
  },
  {
   "cell_type": "code",
   "execution_count": null,
   "id": "a3065a76",
   "metadata": {},
   "outputs": [],
   "source": []
  },
  {
   "cell_type": "code",
   "execution_count": null,
   "id": "de4c3735",
   "metadata": {},
   "outputs": [],
   "source": []
  },
  {
   "cell_type": "code",
   "execution_count": null,
   "id": "7700f31c",
   "metadata": {},
   "outputs": [],
   "source": []
  },
  {
   "cell_type": "markdown",
   "id": "17328fec",
   "metadata": {},
   "source": [
    "## Run Preliminary Classifiers"
   ]
  },
  {
   "cell_type": "code",
   "execution_count": 6,
   "id": "673eb6f9",
   "metadata": {},
   "outputs": [],
   "source": [
    "def create_pipe(cls):\n",
    "    return Pipeline([\n",
    "        ('cvec',CountVectorizer(stop_words=stopwords.words(\"english\"),\n",
    "                                token_pattern=\"[^\\W\\d_]+\",\n",
    "                               max_features=2000)),\n",
    "#                                max_df=0.95,min_df=0.2,max_features=10000)),        \n",
    "        ('cls',cls)\n",
    "    ])"
   ]
  },
  {
   "cell_type": "code",
   "execution_count": 7,
   "id": "96d7d672",
   "metadata": {},
   "outputs": [],
   "source": [
    "class_obj=Classifiers(create_pipe,X,y,123)"
   ]
  },
  {
   "cell_type": "code",
   "execution_count": 8,
   "id": "eb9ea675",
   "metadata": {},
   "outputs": [],
   "source": [
    "classifiers=[\n",
    "    {\n",
    "        'cls':MultinomialNB(),\n",
    "        'name':'Naive Bayes'\n",
    "    },\n",
    "    {\n",
    "        'cls':RandomForestClassifier(n_jobs=-1),\n",
    "        'name':'Random Forest'\n",
    "    },\n",
    "#     {\n",
    "#         'cls':SVC(),\n",
    "#         'name':'SVC'\n",
    "#     },\n",
    "    {\n",
    "        'cls':xgb.XGBClassifier(objective=\"binary:logistic\"),\n",
    "        'name':'XGBoost'\n",
    "    },\n",
    "]"
   ]
  },
  {
   "cell_type": "code",
   "execution_count": 9,
   "id": "62a2698c",
   "metadata": {
    "scrolled": false
   },
   "outputs": [
    {
     "name": "stdout",
     "output_type": "stream",
     "text": [
      "========= Running classifier: Naive Bayes =========\n",
      "--Train--\n",
      "Accuracy: 0.8077\n",
      "--Test--\n",
      "Accuracy: 0.7883\n",
      "Precision: 0.8678\n",
      "Recall: 0.6815\n",
      "Specificity: 0.8956\n",
      "F1: 0.7634\n",
      "========= Running classifier: Random Forest =========\n",
      "--Train--\n",
      "Accuracy: 0.9994\n",
      "--Test--\n",
      "Accuracy: 0.8131\n",
      "Precision: 0.8323\n",
      "Recall: 0.7854\n",
      "Specificity: 0.8410\n",
      "F1: 0.8081\n",
      "---Other metrics regarding Random Forest---\n",
      "Average tree depth: 219.25\n",
      "========= Running classifier: XGBoost =========\n",
      "--Train--\n",
      "Accuracy: 0.9240\n",
      "--Test--\n",
      "Accuracy: 0.8161\n",
      "Precision: 0.8065\n",
      "Recall: 0.8328\n",
      "Specificity: 0.7992\n",
      "F1: 0.8195\n"
     ]
    }
   ],
   "source": [
    "for i in classifiers:\n",
    "    class_obj.run_classifier(i['cls'],i['name'])"
   ]
  },
  {
   "cell_type": "markdown",
   "id": "c3164724",
   "metadata": {},
   "source": [
    "Running the 3 classifiers, we see that train accuracy and test accuracy is quite far apart.  \n",
    "There is significant overfit.  \n",
    "Furthermore, since all 3 models are overfitting, this suggests the problem is with the training features, not so much of the model tuning.  \n",
    "We will deal with this subsequently."
   ]
  },
  {
   "cell_type": "code",
   "execution_count": null,
   "id": "85765982",
   "metadata": {},
   "outputs": [],
   "source": []
  }
 ],
 "metadata": {
  "kernelspec": {
   "display_name": "Python 3 (ipykernel)",
   "language": "python",
   "name": "python3"
  },
  "language_info": {
   "codemirror_mode": {
    "name": "ipython",
    "version": 3
   },
   "file_extension": ".py",
   "mimetype": "text/x-python",
   "name": "python",
   "nbconvert_exporter": "python",
   "pygments_lexer": "ipython3",
   "version": "3.9.12"
  }
 },
 "nbformat": 4,
 "nbformat_minor": 5
}
