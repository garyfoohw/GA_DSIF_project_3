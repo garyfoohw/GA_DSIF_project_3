{
 "cells": [
  {
   "cell_type": "code",
   "execution_count": 1,
   "id": "1522b74c",
   "metadata": {},
   "outputs": [],
   "source": [
    "import pickle\n",
    "import re\n",
    "import pandas as pd"
   ]
  },
  {
   "cell_type": "code",
   "execution_count": 2,
   "id": "da05d3c0",
   "metadata": {},
   "outputs": [],
   "source": [
    "scrape_path_0=\"../scrape_file/scrapes_atheism.pickle\"\n",
    "scrape_path_1=\"../scrape_file/scrapes_christianity.pickle\"\n",
    "\n",
    "try:\n",
    "    with open(scrape_path_0,'rb') as handle:\n",
    "        scrape0=pickle.load(handle)\n",
    "    with open(scrape_path_1,'rb') as handle:\n",
    "        scrape1=pickle.load(handle)\n",
    "except FileNotFoundError as e:\n",
    "    e.strerror = \"Pls run 01_scrape_reddit first to pull the data.\"\n",
    "    raise e\n",
    "\n",
    "df0=pd.DataFrame(scrape0,columns=[\"post\"])\n",
    "df0['label']=0\n",
    "\n",
    "df1=pd.DataFrame(scrape1,columns=[\"post\"])\n",
    "df1['label']=1\n",
    "\n",
    "df=pd.concat([df0,df1])\n",
    "df.reset_index(inplace=True,drop=True)"
   ]
  },
  {
   "cell_type": "markdown",
   "id": "34b276c5",
   "metadata": {},
   "source": [
    "Let's take a look at the combined DF."
   ]
  },
  {
   "cell_type": "code",
   "execution_count": 3,
   "id": "8fb03bbe",
   "metadata": {},
   "outputs": [
    {
     "data": {
      "text/html": [
       "<div>\n",
       "<style scoped>\n",
       "    .dataframe tbody tr th:only-of-type {\n",
       "        vertical-align: middle;\n",
       "    }\n",
       "\n",
       "    .dataframe tbody tr th {\n",
       "        vertical-align: top;\n",
       "    }\n",
       "\n",
       "    .dataframe thead th {\n",
       "        text-align: right;\n",
       "    }\n",
       "</style>\n",
       "<table border=\"1\" class=\"dataframe\">\n",
       "  <thead>\n",
       "    <tr style=\"text-align: right;\">\n",
       "      <th></th>\n",
       "      <th>post</th>\n",
       "      <th>label</th>\n",
       "    </tr>\n",
       "  </thead>\n",
       "  <tbody>\n",
       "    <tr>\n",
       "      <th>0</th>\n",
       "      <td>It’s actually just sad that I see these pastor...</td>\n",
       "      <td>0</td>\n",
       "    </tr>\n",
       "    <tr>\n",
       "      <th>1</th>\n",
       "      <td>TLDR: I love my Christian mother, but she has ...</td>\n",
       "      <td>0</td>\n",
       "    </tr>\n",
       "    <tr>\n",
       "      <th>2</th>\n",
       "      <td>I literally posted here like an hour or so ago...</td>\n",
       "      <td>0</td>\n",
       "    </tr>\n",
       "    <tr>\n",
       "      <th>3</th>\n",
       "      <td>My wife and I are in the middle of loading the...</td>\n",
       "      <td>0</td>\n",
       "    </tr>\n",
       "    <tr>\n",
       "      <th>4</th>\n",
       "      <td>This is the nail in the coffin for the idea of...</td>\n",
       "      <td>0</td>\n",
       "    </tr>\n",
       "    <tr>\n",
       "      <th>...</th>\n",
       "      <td>...</td>\n",
       "      <td>...</td>\n",
       "    </tr>\n",
       "    <tr>\n",
       "      <th>10076</th>\n",
       "      <td>Jesus lived a perfect life, and died in your p...</td>\n",
       "      <td>1</td>\n",
       "    </tr>\n",
       "    <tr>\n",
       "      <th>10077</th>\n",
       "      <td>Why don't nuns wear the blue coat, red dress a...</td>\n",
       "      <td>1</td>\n",
       "    </tr>\n",
       "    <tr>\n",
       "      <th>10078</th>\n",
       "      <td>I've had a lack of appetite for sometime and n...</td>\n",
       "      <td>1</td>\n",
       "    </tr>\n",
       "    <tr>\n",
       "      <th>10079</th>\n",
       "      <td>Title says it all. Wondering if anyone can giv...</td>\n",
       "      <td>1</td>\n",
       "    </tr>\n",
       "    <tr>\n",
       "      <th>10080</th>\n",
       "      <td>You don't have to be in Tennessee. If you have...</td>\n",
       "      <td>1</td>\n",
       "    </tr>\n",
       "  </tbody>\n",
       "</table>\n",
       "<p>10081 rows × 2 columns</p>\n",
       "</div>"
      ],
      "text/plain": [
       "                                                    post  label\n",
       "0      It’s actually just sad that I see these pastor...      0\n",
       "1      TLDR: I love my Christian mother, but she has ...      0\n",
       "2      I literally posted here like an hour or so ago...      0\n",
       "3      My wife and I are in the middle of loading the...      0\n",
       "4      This is the nail in the coffin for the idea of...      0\n",
       "...                                                  ...    ...\n",
       "10076  Jesus lived a perfect life, and died in your p...      1\n",
       "10077  Why don't nuns wear the blue coat, red dress a...      1\n",
       "10078  I've had a lack of appetite for sometime and n...      1\n",
       "10079  Title says it all. Wondering if anyone can giv...      1\n",
       "10080  You don't have to be in Tennessee. If you have...      1\n",
       "\n",
       "[10081 rows x 2 columns]"
      ]
     },
     "execution_count": 3,
     "metadata": {},
     "output_type": "execute_result"
    }
   ],
   "source": [
    "df"
   ]
  },
  {
   "cell_type": "markdown",
   "id": "e3fbe42f",
   "metadata": {},
   "source": [
    "### And the split of 1/0 labels?"
   ]
  },
  {
   "cell_type": "code",
   "execution_count": 4,
   "id": "bfb8b5c5",
   "metadata": {
    "scrolled": true
   },
   "outputs": [
    {
     "data": {
      "text/plain": [
       "1    0.501339\n",
       "0    0.498661\n",
       "Name: label, dtype: float64"
      ]
     },
     "execution_count": 4,
     "metadata": {},
     "output_type": "execute_result"
    }
   ],
   "source": [
    "df['label'].value_counts(normalize=True)"
   ]
  },
  {
   "cell_type": "markdown",
   "id": "d45f0313",
   "metadata": {},
   "source": [
    "Quite an equal representation (50%) of labels are 1 and 0.  \n",
    "No need to do any balancing here."
   ]
  },
  {
   "cell_type": "markdown",
   "id": "83c5de2e",
   "metadata": {},
   "source": [
    "### Let's also look at how many words each post contains."
   ]
  },
  {
   "cell_type": "code",
   "execution_count": 5,
   "id": "c8d3a2de",
   "metadata": {
    "scrolled": true
   },
   "outputs": [
    {
     "data": {
      "text/html": [
       "<div>\n",
       "<style scoped>\n",
       "    .dataframe tbody tr th:only-of-type {\n",
       "        vertical-align: middle;\n",
       "    }\n",
       "\n",
       "    .dataframe tbody tr th {\n",
       "        vertical-align: top;\n",
       "    }\n",
       "\n",
       "    .dataframe thead th {\n",
       "        text-align: right;\n",
       "    }\n",
       "</style>\n",
       "<table border=\"1\" class=\"dataframe\">\n",
       "  <thead>\n",
       "    <tr style=\"text-align: right;\">\n",
       "      <th></th>\n",
       "      <th>count</th>\n",
       "      <th>mean</th>\n",
       "      <th>std</th>\n",
       "      <th>min</th>\n",
       "      <th>25%</th>\n",
       "      <th>50%</th>\n",
       "      <th>75%</th>\n",
       "      <th>max</th>\n",
       "    </tr>\n",
       "  </thead>\n",
       "  <tbody>\n",
       "    <tr>\n",
       "      <th>Label 0</th>\n",
       "      <td>5027.0</td>\n",
       "      <td>173.835886</td>\n",
       "      <td>237.135363</td>\n",
       "      <td>20.0</td>\n",
       "      <td>62.0</td>\n",
       "      <td>115.0</td>\n",
       "      <td>204.0</td>\n",
       "      <td>7799.0</td>\n",
       "    </tr>\n",
       "    <tr>\n",
       "      <th>Label 1</th>\n",
       "      <td>5054.0</td>\n",
       "      <td>183.649189</td>\n",
       "      <td>271.955133</td>\n",
       "      <td>20.0</td>\n",
       "      <td>54.0</td>\n",
       "      <td>105.0</td>\n",
       "      <td>204.0</td>\n",
       "      <td>4996.0</td>\n",
       "    </tr>\n",
       "  </tbody>\n",
       "</table>\n",
       "</div>"
      ],
      "text/plain": [
       "          count        mean         std   min   25%    50%    75%     max\n",
       "Label 0  5027.0  173.835886  237.135363  20.0  62.0  115.0  204.0  7799.0\n",
       "Label 1  5054.0  183.649189  271.955133  20.0  54.0  105.0  204.0  4996.0"
      ]
     },
     "execution_count": 5,
     "metadata": {},
     "output_type": "execute_result"
    }
   ],
   "source": [
    "df['len']=df['post'].apply(lambda x: len(re.split(r'\\s',x)))\n",
    "df[df['label']==1]['len'].describe()\n",
    "pd.DataFrame([df[df['label']==0]['len'].describe().rename(\"Label 0\"),df[df['label']==1]['len'].describe().rename(\"Label 1\")])"
   ]
  },
  {
   "cell_type": "markdown",
   "id": "0b518c5a",
   "metadata": {},
   "source": [
    "No real difference between the lengths of post between the 2 categories."
   ]
  },
  {
   "cell_type": "markdown",
   "id": "c570aea9",
   "metadata": {},
   "source": [
    "Let's move on to pump the entire dataframe into a preliminary model next."
   ]
  }
 ],
 "metadata": {
  "kernelspec": {
   "display_name": "Python 3 (ipykernel)",
   "language": "python",
   "name": "python3"
  },
  "language_info": {
   "codemirror_mode": {
    "name": "ipython",
    "version": 3
   },
   "file_extension": ".py",
   "mimetype": "text/x-python",
   "name": "python",
   "nbconvert_exporter": "python",
   "pygments_lexer": "ipython3",
   "version": "3.9.12"
  }
 },
 "nbformat": 4,
 "nbformat_minor": 5
}
