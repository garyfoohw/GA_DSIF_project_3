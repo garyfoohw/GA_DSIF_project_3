{
 "cells": [
  {
   "cell_type": "markdown",
   "id": "1dd93379",
   "metadata": {},
   "source": [
    "### Results"
   ]
  },
  {
   "cell_type": "markdown",
   "id": "a3779a04",
   "metadata": {},
   "source": [
    "| Model         | Vectorizer      | ROC AUC score |\n",
    "| ------------- | --------------- | ------------- |\n",
    "| Naive Bayes   | CountVectorizer | 81.2%         |\n",
    "| Naive Bayes   | TfidfVectorizer | 82.6%         |\n",
    "| Random Forest | TfidfVectorizer | 83.5%         |\n",
    "| XGBoost       | TfidfVectorizer | 83.1%         |"
   ]
  },
  {
   "cell_type": "markdown",
   "id": "265e429c",
   "metadata": {},
   "source": [
    "All 3 models learn rather well with Random Forest and XGBoost scoring rather closely.\n",
    "We choose XGBoost as the final model despite the slightly lower score due to its faster runtime performance."
   ]
  },
  {
   "cell_type": "markdown",
   "id": "0b3eb74d",
   "metadata": {},
   "source": [
    "### Recommendation and Conclusion"
   ]
  },
  {
   "cell_type": "markdown",
   "id": "14094590",
   "metadata": {},
   "source": [
    "It is recommended that this model be further tuned, since decision trees have many parameters that are tunable.  \n",
    "It is also possible to also try other classifiers including Neural Network.\n",
    "Finally, the confusion matrix was not studied in-depth in the interest of time, and it would be prudent to study the precision, recall, and specificity too.\n",
    "\n",
    "In conclusion, we have built a model to learn natural text used by aethiests and christians through posts on Reddit. The ROC score achieved at least 83, using a XGBoost Classifier."
   ]
  }
 ],
 "metadata": {
  "kernelspec": {
   "display_name": "Python 3 (ipykernel)",
   "language": "python",
   "name": "python3"
  },
  "language_info": {
   "codemirror_mode": {
    "name": "ipython",
    "version": 3
   },
   "file_extension": ".py",
   "mimetype": "text/x-python",
   "name": "python",
   "nbconvert_exporter": "python",
   "pygments_lexer": "ipython3",
   "version": "3.9.12"
  }
 },
 "nbformat": 4,
 "nbformat_minor": 5
}
