{
 "cells": [
  {
   "cell_type": "markdown",
   "id": "9b3015ef",
   "metadata": {},
   "source": [
    "# Keeping Religions Safe"
   ]
  },
  {
   "cell_type": "markdown",
   "id": "53f76253",
   "metadata": {},
   "source": [
    "### Background\n",
    "\n",
    "Differences in religious belief has always been the sensitive topic, no matter when in history or where in the world. Differences in beliefs by itself is not a problem. However, when people try to impose their own beliefs on others, then that is a recipe for disharmony or something worse.\n",
    "\n",
    "It is therefore important to protect harmony and peace by identifying individuals who may be of a different religion from another, or if we generalize the problem, one with religion vs one without. The ability to identify one's religion (or lackthereof) allow organizers to identify who to invite for events and who to keep out.\n",
    "\n",
    "In this manner, we can be sure that each individual groups can carry out their activities without interference or trouble.\n"
   ]
  },
  {
   "cell_type": "markdown",
   "id": "609fc54e",
   "metadata": {},
   "source": [
    "### Problem Statement\n",
    "\n",
    "A machine learning algorithm will be trained to identify natural speech of *Christians* (as a proxy for people with religion) vs *Aetheists*.\n",
    "\n",
    "By studying the common topic / words of choice between these 2 groups of people, it is hoped that a model can identify one from the other."
   ]
  }
 ],
 "metadata": {
  "kernelspec": {
   "display_name": "Python 3 (ipykernel)",
   "language": "python",
   "name": "python3"
  },
  "language_info": {
   "codemirror_mode": {
    "name": "ipython",
    "version": 3
   },
   "file_extension": ".py",
   "mimetype": "text/x-python",
   "name": "python",
   "nbconvert_exporter": "python",
   "pygments_lexer": "ipython3",
   "version": "3.9.12"
  }
 },
 "nbformat": 4,
 "nbformat_minor": 5
}
