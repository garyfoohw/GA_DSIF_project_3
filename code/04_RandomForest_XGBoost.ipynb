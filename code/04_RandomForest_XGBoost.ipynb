{
 "cells": [
  {
   "cell_type": "code",
   "execution_count": 1,
   "id": "9864b9f8",
   "metadata": {},
   "outputs": [],
   "source": [
    "import pickle\n",
    "import pandas as pd\n",
    "from sklearn.model_selection import GridSearchCV\n",
    "from sklearn.ensemble import RandomForestClassifier\n",
    "from sklearn.naive_bayes import MultinomialNB\n",
    "from xgboost import XGBClassifier\n",
    "from nltk.corpus import stopwords\n",
    "from utils import create_pipe, run_classifiers"
   ]
  },
  {
   "cell_type": "code",
   "execution_count": 2,
   "id": "f9103c79",
   "metadata": {},
   "outputs": [
    {
     "data": {
      "text/html": [
       "<div>\n",
       "<style scoped>\n",
       "    .dataframe tbody tr th:only-of-type {\n",
       "        vertical-align: middle;\n",
       "    }\n",
       "\n",
       "    .dataframe tbody tr th {\n",
       "        vertical-align: top;\n",
       "    }\n",
       "\n",
       "    .dataframe thead th {\n",
       "        text-align: right;\n",
       "    }\n",
       "</style>\n",
       "<table border=\"1\" class=\"dataframe\">\n",
       "  <thead>\n",
       "    <tr style=\"text-align: right;\">\n",
       "      <th></th>\n",
       "      <th>post</th>\n",
       "      <th>label</th>\n",
       "    </tr>\n",
       "  </thead>\n",
       "  <tbody>\n",
       "    <tr>\n",
       "      <th>0</th>\n",
       "      <td>this is the nail in the coffin for the idea of...</td>\n",
       "      <td>0</td>\n",
       "    </tr>\n",
       "    <tr>\n",
       "      <th>1</th>\n",
       "      <td>i’m closeted, always been, and always will be....</td>\n",
       "      <td>0</td>\n",
       "    </tr>\n",
       "    <tr>\n",
       "      <th>2</th>\n",
       "      <td>the fifa world cup in qatar should be a remind...</td>\n",
       "      <td>0</td>\n",
       "    </tr>\n",
       "    <tr>\n",
       "      <th>3</th>\n",
       "      <td>we moved from the dc metro area last year to t...</td>\n",
       "      <td>0</td>\n",
       "    </tr>\n",
       "    <tr>\n",
       "      <th>4</th>\n",
       "      <td>they spend so much time focusing on arbitrary ...</td>\n",
       "      <td>0</td>\n",
       "    </tr>\n",
       "    <tr>\n",
       "      <th>...</th>\n",
       "      <td>...</td>\n",
       "      <td>...</td>\n",
       "    </tr>\n",
       "    <tr>\n",
       "      <th>10078</th>\n",
       "      <td>if jesus died for our sins, what's keeping u f...</td>\n",
       "      <td>1</td>\n",
       "    </tr>\n",
       "    <tr>\n",
       "      <th>10079</th>\n",
       "      <td>hello everybody it may seem like a dumb questi...</td>\n",
       "      <td>1</td>\n",
       "    </tr>\n",
       "    <tr>\n",
       "      <th>10080</th>\n",
       "      <td>today's readings: 1 corinthian 1:4-8 &amp;gt;i tha...</td>\n",
       "      <td>1</td>\n",
       "    </tr>\n",
       "    <tr>\n",
       "      <th>10081</th>\n",
       "      <td>i don't propose this question in the sense of ...</td>\n",
       "      <td>1</td>\n",
       "    </tr>\n",
       "    <tr>\n",
       "      <th>10082</th>\n",
       "      <td>i'd like to preface this by saying that i've n...</td>\n",
       "      <td>1</td>\n",
       "    </tr>\n",
       "  </tbody>\n",
       "</table>\n",
       "<p>10083 rows × 2 columns</p>\n",
       "</div>"
      ],
      "text/plain": [
       "                                                    post  label\n",
       "0      this is the nail in the coffin for the idea of...      0\n",
       "1      i’m closeted, always been, and always will be....      0\n",
       "2      the fifa world cup in qatar should be a remind...      0\n",
       "3      we moved from the dc metro area last year to t...      0\n",
       "4      they spend so much time focusing on arbitrary ...      0\n",
       "...                                                  ...    ...\n",
       "10078  if jesus died for our sins, what's keeping u f...      1\n",
       "10079  hello everybody it may seem like a dumb questi...      1\n",
       "10080  today's readings: 1 corinthian 1:4-8 &gt;i tha...      1\n",
       "10081  i don't propose this question in the sense of ...      1\n",
       "10082  i'd like to preface this by saying that i've n...      1\n",
       "\n",
       "[10083 rows x 2 columns]"
      ]
     },
     "execution_count": 2,
     "metadata": {},
     "output_type": "execute_result"
    }
   ],
   "source": [
    "#open data file\n",
    "\n",
    "path=\"../data/combined.pickle\"\n",
    "\n",
    "try:\n",
    "    with open(path,'rb') as handle:\n",
    "        pickleload=pickle.load(handle)\n",
    "except FileNotFoundError as e:\n",
    "    e.strerror = \"Pls run 01_scrape_reddit first to pull the data and 02_EDA to merge data.\"\n",
    "    raise e\n",
    "\n",
    "df=pd.DataFrame(pickleload)\n",
    "\n",
    "df"
   ]
  },
  {
   "cell_type": "markdown",
   "id": "14178f3e",
   "metadata": {},
   "source": [
    "### Prepare the dataset"
   ]
  },
  {
   "cell_type": "code",
   "execution_count": 3,
   "id": "6315003e",
   "metadata": {},
   "outputs": [],
   "source": [
    "X=df['post']\n",
    "y=df['label']"
   ]
  },
  {
   "cell_type": "markdown",
   "id": "c57f0ad2",
   "metadata": {},
   "source": [
    "## Add Random Forest and XGBoost into the mix"
   ]
  },
  {
   "cell_type": "markdown",
   "id": "24256eb7",
   "metadata": {},
   "source": [
    "and some parameters to RandomizedSearch for."
   ]
  },
  {
   "cell_type": "code",
   "execution_count": 4,
   "id": "8ac8b49f",
   "metadata": {},
   "outputs": [
    {
     "name": "stdout",
     "output_type": "stream",
     "text": [
      "======= Running classifier: NaiveBayes =======\n",
      "ROC AUC with CV=5: 0.8257169538682693\n",
      "======= Running classifier: RandomForest =======\n",
      "Fitting 5 folds for each of 30 candidates, totalling 150 fits\n",
      "Best parameters and accuracy\n",
      "{'cls__min_samples_split': 7, 'cls__min_samples_leaf': 4, 'cls__max_depth': 60}\n",
      "ROC AUC with CV=5: 0.8351760606719554\n",
      "======= Running classifier: XGBoost =======\n",
      "Fitting 5 folds for each of 30 candidates, totalling 150 fits\n",
      "[09:53:54] WARNING: C:/Users/Administrator/workspace/xgboost-win64_release_1.6.0/src/learner.cc:627: \n",
      "Parameters: { \"subsample_bytree\" } might not be used.\n",
      "\n",
      "  This could be a false alarm, with some parameters getting used by language bindings but\n",
      "  then being mistakenly passed down to XGBoost core, or some parameter actually being used\n",
      "  but getting flagged wrongly here. Please open an issue if you find any such cases.\n",
      "\n",
      "\n",
      "Best parameters and accuracy\n",
      "{'cls__subsample_bytree': 0.9, 'cls__max_depth': 6, 'cls__gamma': 1, 'cls__eta': 0.1}\n",
      "ROC AUC with CV=5: 0.8340581211198932\n"
     ]
    }
   ],
   "source": [
    "classifiers_list=[\n",
    "    {\n",
    "        'cls':MultinomialNB(),\n",
    "        'name':'NaiveBayes',\n",
    "        'fixed_params':{'min_df': 0.05, 'max_features': 3500, 'max_df': 0.8,'use_idf': False, 'ngram_range': (1, 2)},\n",
    "    },\n",
    "    {\n",
    "        'cls':RandomForestClassifier(),\n",
    "        'name':'RandomForest',\n",
    "        'fixed_params':{'min_df': 0.05, 'max_features': 3500, 'max_df': 0.8,'use_idf': False, 'ngram_range': (1, 2)},\n",
    "        'float_params':{\n",
    "            'cls__max_depth':[60,80,100,120,140],\n",
    "            'cls__min_samples_split':[3,4,5,6,7],\n",
    "            'cls__min_samples_leaf':[2,3,4]\n",
    "        }\n",
    "    },\n",
    "    {\n",
    "        'cls':XGBClassifier(),\n",
    "        'name':'XGBoost',\n",
    "        'fixed_params':{'min_df': 0.05, 'max_features': 3500, 'max_df': 0.8,'use_idf': False, 'ngram_range': (1, 2)},\n",
    "        'float_params':{\n",
    "            'cls__eta':[0.08,0.1,0.12],\n",
    "            'cls__gamma':[1,10,20,50],\n",
    "            'cls__max_depth':[6,7,8],\n",
    "            'cls__subsample_bytree':[0.5,0.7,0.9]\n",
    "        }\n",
    "    }\n",
    "]\n",
    "run_classifiers(classifiers_list,X,y,tfidf=True)"
   ]
  },
  {
   "cell_type": "markdown",
   "id": "c4fe13d2",
   "metadata": {},
   "source": [
    "So here we see,"
   ]
  },
  {
   "cell_type": "markdown",
   "id": "8e6d2fc8",
   "metadata": {},
   "source": [
    "|Model|Vectorizer|ROC AUC score|\n",
    "|---|---|---|\n",
    "|Naive Bayes|CountVectorizer|81.2%|\n",
    "|Naive Bayes|TfidfVectorizer|82.6%|\n",
    "|Random Forest|TfidfVectorizer|83.5%|\n",
    "|XGBoost|TfidfVectorizer|83.4%|"
   ]
  },
  {
   "cell_type": "markdown",
   "id": "b83c4723",
   "metadata": {},
   "source": [
    "RF and XGBoost gave very close scores.  \n",
    "We pick XGBoost ahead of RF as XGBoost has significant performance advantage over Random Forest."
   ]
  }
 ],
 "metadata": {
  "kernelspec": {
   "display_name": "Python 3 (ipykernel)",
   "language": "python",
   "name": "python3"
  },
  "language_info": {
   "codemirror_mode": {
    "name": "ipython",
    "version": 3
   },
   "file_extension": ".py",
   "mimetype": "text/x-python",
   "name": "python",
   "nbconvert_exporter": "python",
   "pygments_lexer": "ipython3",
   "version": "3.9.12"
  }
 },
 "nbformat": 4,
 "nbformat_minor": 5
}
